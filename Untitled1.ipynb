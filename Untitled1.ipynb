{
 "cells": [
  {
   "cell_type": "code",
   "execution_count": 49,
   "id": "be8f1b90-9aa4-461f-89d4-d238e5c17b4b",
   "metadata": {},
   "outputs": [],
   "source": [
    "import time\n",
    "from reportlab.lib.enums import TA_JUSTIFY\n",
    "from reportlab.lib.pagesizes import letter\n",
    "from reportlab.platypus import SimpleDocTemplate, Paragraph, Spacer, Image\n",
    "from reportlab.lib.styles import getSampleStyleSheet, ParagraphStyle\n",
    "from reportlab.lib.units import inch\n",
    "\n",
    "import io\n",
    "import requests\n",
    "\n",
    "\n",
    "def phone_format(n):   \n",
    "    n = str(n)\n",
    "    return format(int(n[:-1]), \",\").replace(\",\", \"-\") + n[-1] \n",
    "\n",
    "data = requests.get('http://0.0.0.0:8002/services')\n",
    "data = data.json()\n",
    "\n",
    "stream = io.BytesIO()\n",
    "doc = SimpleDocTemplate(stream,pagesize=letter,\n",
    "                        rightMargin=72,leftMargin=72,\n",
    "                        topMargin=72,bottomMargin=18)\n",
    "doc = SimpleDocTemplate('test.pdf',pagesize=letter,\n",
    "                        rightMargin=72,leftMargin=72,\n",
    "                        topMargin=72,bottomMargin=18)\n",
    "logo = \"frontend/static/icon.png\"\n",
    "Story=[]\n",
    "im = Image(logo, 1*inch, 1*inch)\n",
    "Story.append(im)\n",
    "styles=getSampleStyleSheet()\n",
    "styles.add(ParagraphStyle(name='Justify', alignment=TA_JUSTIFY))\n",
    "Story.append(Spacer(1, 12))\n",
    "Story.append(Paragraph('Services', styles[\"Heading1\"]))       \n",
    "for service in data['services']:\n",
    "    Story.append(Spacer(1, 12))\n",
    "    header = f\"\"\"\n",
    "        {service['name']}\n",
    "        \"\"\"\n",
    "    \n",
    "    address =  f\"\"\"{service['address']} {service['city']}, {service['state']} {service['zip_code']} \"\"\"\n",
    "    web_site = f\"\"\"{service['web_site']}\"\"\"\n",
    "    hours = f\"\"\"\n",
    "        Hours of Operation<br/>\n",
    "        Days: {service['days']}<br/>\n",
    "        Hours: {service['hours']}<br/>\n",
    "        \"\"\"\n",
    "    Story.append(Paragraph(header, styles[\"Heading2\"]))\n",
    "    if service['address']:\n",
    "        Story.append(Paragraph(address, styles[\"Justify\"]))\n",
    "    if service['phone']:\n",
    "        phone = f\"\"\"Phone Number: {phone_format(service['phone'])} \"\"\"\n",
    "        Story.append(Paragraph(phone, styles[\"Justify\"]))\n",
    "    if service['web_site']:\n",
    "        Story.append(Paragraph(web_site, styles[\"Justify\"]))\n",
    "    if service['hours']:\n",
    "        Story.append(Paragraph(hours, styles[\"Justify\"]))\n",
    "\n",
    "Story.append(Spacer(1, 12))\n"
   ]
  },
  {
   "cell_type": "code",
   "execution_count": 50,
   "id": "11328305-8042-4da2-aee6-5063fc129aab",
   "metadata": {},
   "outputs": [
    {
     "data": {
      "text/plain": [
       "{'name': 'S. AZ Gender Alliance',\n",
       " 'phone': 5204777096,\n",
       " 'address': '2030 EAST BROADWAY',\n",
       " 'general_topic': 'LGBTQ',\n",
       " 'tags': ['LGBTQ'],\n",
       " 'city': 'Tuscon',\n",
       " 'state': 'AZ',\n",
       " 'lat': 32.2210873,\n",
       " 'lon': -110.94121,\n",
       " 'zip_code': 85719,\n",
       " 'web_site': 'http://www.sagatucson.org/',\n",
       " 'days': None,\n",
       " 'hours': None}"
      ]
     },
     "execution_count": 50,
     "metadata": {},
     "output_type": "execute_result"
    }
   ],
   "source": [
    "data['services'][0]"
   ]
  },
  {
   "cell_type": "code",
   "execution_count": 51,
   "id": "7ca36891-ba2b-4ea7-b8b7-51c6b9bc5845",
   "metadata": {},
   "outputs": [],
   "source": [
    "doc.build(Story)"
   ]
  },
  {
   "cell_type": "code",
   "execution_count": null,
   "id": "77518403-c743-41de-accc-657329b74397",
   "metadata": {},
   "outputs": [],
   "source": [
    "pdf_buffer = stream.getBuffer()\n"
   ]
  }
 ],
 "metadata": {
  "kernelspec": {
   "display_name": "Python 3 (ipykernel)",
   "language": "python",
   "name": "python3"
  },
  "language_info": {
   "codemirror_mode": {
    "name": "ipython",
    "version": 3
   },
   "file_extension": ".py",
   "mimetype": "text/x-python",
   "name": "python",
   "nbconvert_exporter": "python",
   "pygments_lexer": "ipython3",
   "version": "3.7.13"
  }
 },
 "nbformat": 4,
 "nbformat_minor": 5
}
