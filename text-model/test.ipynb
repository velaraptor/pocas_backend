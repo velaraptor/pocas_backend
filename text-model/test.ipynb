{
 "cells": [
  {
   "cell_type": "code",
   "execution_count": 1,
   "id": "2c9dd347-8bec-4799-a304-8b4da3b0ecaa",
   "metadata": {},
   "outputs": [
    {
     "name": "stderr",
     "output_type": "stream",
     "text": [
      "/Users/velaraptor/anaconda3/envs/pocas_backend/lib/python3.9/site-packages/tqdm/auto.py:22: TqdmWarning: IProgress not found. Please update jupyter and ipywidgets. See https://ipywidgets.readthedocs.io/en/stable/user_install.html\n",
      "  from .autonotebook import tqdm as notebook_tqdm\n"
     ]
    }
   ],
   "source": [
    "from text import TextModel"
   ]
  },
  {
   "cell_type": "code",
   "execution_count": 2,
   "id": "d8be73d0-3458-4a55-8736-d6709944caab",
   "metadata": {},
   "outputs": [],
   "source": [
    "t = TextModel()"
   ]
  },
  {
   "cell_type": "code",
   "execution_count": 3,
   "id": "8f81f7a2-cfac-4a1a-931a-d0fa6d84a2cb",
   "metadata": {},
   "outputs": [
    {
     "name": "stderr",
     "output_type": "stream",
     "text": [
      "167it [00:01, 132.73it/s]\n",
      "167it [00:00, 1250.91it/s]\n",
      "\n",
      "0%   10   20   30   40   50   60   70   80   90   100%\n",
      "|----|----|----|----|----|----|----|----|----|----|\n",
      "***************************************************\n",
      "\n",
      "0%   10   20   30   40   50   60   70   80   90   100%\n",
      "|----|----|----|----|----|----|----|----|----|----|\n",
      "****************************************************\n"
     ]
    }
   ],
   "source": [
    "t.run()"
   ]
  },
  {
   "cell_type": "code",
   "execution_count": 4,
   "id": "3d6d182f-42a1-4760-8eb5-7a88db697ecc",
   "metadata": {},
   "outputs": [
    {
     "data": {
      "text/plain": [
       "[('immigrant', 0.9174407124519348),\n",
       " ('refugees', 0.845581591129303),\n",
       " ('immigration', 0.7234803438186646),\n",
       " ('united', 0.6379863619804382),\n",
       " ('grant', 0.6254017353057861),\n",
       " ('legal', 0.6203404068946838),\n",
       " ('meals', 0.6167480945587158),\n",
       " ('mobile', 0.5906133055686951),\n",
       " ('suite', 0.5779066681861877),\n",
       " ('e.', 0.5699533224105835),\n",
       " ('case', 0.5632296204566956),\n",
       " ('states', 0.5516253709793091),\n",
       " ('childhood', 0.5482670068740845),\n",
       " ('ua', 0.5479654669761658),\n",
       " ('speedway', 0.5392221212387085),\n",
       " ('senior', 0.5294994711875916),\n",
       " ('85721', 0.5291357040405273),\n",
       " ('seniors', 0.5139709115028381),\n",
       " ('system', 0.4979190230369568),\n",
       " ('law', 0.4874170422554016)]"
      ]
     },
     "execution_count": 4,
     "metadata": {},
     "output_type": "execute_result"
    }
   ],
   "source": [
    "t.ft_model.wv.most_similar(\"refugee\", topn=20, restrict_vocab=5000)"
   ]
  },
  {
   "cell_type": "code",
   "execution_count": 5,
   "id": "3b055ab6-9ceb-4b10-b92f-a2390e1bb044",
   "metadata": {},
   "outputs": [
    {
     "name": "stdout",
     "output_type": "stream",
     "text": [
      "[-4.39404964e-01 -1.24706954e-01 -3.22577119e-01  1.85381904e-01\n",
      "  3.98885220e-01 -2.88313359e-01  3.19234848e-01 -4.50900286e-01\n",
      " -4.88858372e-01 -1.20826386e-01 -2.40861773e-01 -4.29673456e-02\n",
      " -2.06874177e-01 -2.84358650e-01  5.91506325e-02 -1.51369467e-01\n",
      " -2.29589090e-01 -1.34199977e-01 -6.97758570e-02 -3.58875781e-01\n",
      " -2.23418429e-01  3.15345854e-01 -3.98024052e-01  2.82563567e-02\n",
      "  5.23521185e-01  4.89789814e-01  1.09330647e-01 -3.64245087e-01\n",
      "  2.01608136e-01  1.84983090e-01 -1.90744102e-01 -1.03558481e-01\n",
      " -3.79241258e-01  2.31416523e-03  1.75711825e-01  1.44997180e-01\n",
      " -1.71423852e-01  8.47254619e-02 -5.61514795e-02  1.99245259e-01\n",
      " -1.66547418e-01 -8.33183303e-02  2.11394966e-01  1.86136052e-01\n",
      " -9.99589786e-02  2.07409188e-01  1.93420246e-01  9.26139727e-02\n",
      " -2.66709775e-01 -2.74880946e-01  1.25236735e-02  2.20000625e-01\n",
      " -2.08724067e-02 -3.08197767e-01 -4.24442738e-02 -4.90795970e-01\n",
      " -8.32573250e-02 -9.35765505e-02 -4.17206049e-01  3.56605440e-01\n",
      "  8.80499482e-02 -3.62487078e-01 -9.56773981e-02 -2.60673314e-01\n",
      " -2.87039787e-01 -8.95461664e-02  9.92271304e-03  2.35173628e-01\n",
      " -2.99424618e-01  4.66984421e-01 -1.07653417e-01 -4.44435358e-01\n",
      " -1.71026036e-01  1.63751051e-01  1.61875978e-01 -2.43849322e-01\n",
      "  3.42443585e-04 -7.30353966e-02  2.98044115e-01 -1.60193726e-01\n",
      "  1.27273230e-02  9.67276469e-02 -1.62040532e-01 -2.04288855e-01\n",
      " -9.02343765e-02  5.51398337e-01 -9.67661515e-02 -4.23346162e-01\n",
      " -3.72838490e-02  1.40663102e-01 -5.91251366e-02  2.08527446e-01\n",
      "  2.23580003e-01 -1.77093506e-01  2.12099686e-01 -2.23222598e-01\n",
      "  1.94816813e-01  3.93659920e-01  8.86843130e-02 -3.96248072e-01]\n",
      "Searched 167 records in 0.0016 seconds \n",
      "\n"
     ]
    }
   ],
   "source": [
    "results = t.predict(\"mens shelter immigrant\")"
   ]
  },
  {
   "cell_type": "code",
   "execution_count": 6,
   "id": "4ab6d5c8-2025-41f3-93f7-f5ae4c5bbf96",
   "metadata": {},
   "outputs": [
    {
     "data": {
      "text/plain": [
       "[]"
      ]
     },
     "execution_count": 6,
     "metadata": {},
     "output_type": "execute_result"
    }
   ],
   "source": [
    "results"
   ]
  },
  {
   "cell_type": "code",
   "execution_count": null,
   "id": "a95168f0-e8f6-494c-95f4-f3a15e1f18c6",
   "metadata": {},
   "outputs": [],
   "source": []
  }
 ],
 "metadata": {
  "kernelspec": {
   "display_name": "Python 3 (ipykernel)",
   "language": "python",
   "name": "python3"
  },
  "language_info": {
   "codemirror_mode": {
    "name": "ipython",
    "version": 3
   },
   "file_extension": ".py",
   "mimetype": "text/x-python",
   "name": "python",
   "nbconvert_exporter": "python",
   "pygments_lexer": "ipython3",
   "version": "3.9.13"
  }
 },
 "nbformat": 4,
 "nbformat_minor": 5
}
