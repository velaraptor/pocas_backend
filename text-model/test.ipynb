{
 "cells": [
  {
   "cell_type": "code",
   "execution_count": 1,
   "id": "2c9dd347-8bec-4799-a304-8b4da3b0ecaa",
   "metadata": {},
   "outputs": [
    {
     "name": "stderr",
     "output_type": "stream",
     "text": [
      "/Users/velaraptor/anaconda3/envs/pocas_backend/lib/python3.9/site-packages/tqdm/auto.py:22: TqdmWarning: IProgress not found. Please update jupyter and ipywidgets. See https://ipywidgets.readthedocs.io/en/stable/user_install.html\n",
      "  from .autonotebook import tqdm as notebook_tqdm\n"
     ]
    }
   ],
   "source": [
    "from text import TextModel"
   ]
  },
  {
   "cell_type": "code",
   "execution_count": 2,
   "id": "d8be73d0-3458-4a55-8736-d6709944caab",
   "metadata": {},
   "outputs": [
    {
     "name": "stdout",
     "output_type": "stream",
     "text": [
      "[                                                  ]  (0.00%)"
     ]
    }
   ],
   "source": [
    "t = TextModel()\n",
    "t.load_recent_model()"
   ]
  },
  {
   "cell_type": "code",
   "execution_count": 3,
   "id": "8f81f7a2-cfac-4a1a-931a-d0fa6d84a2cb",
   "metadata": {},
   "outputs": [
    {
     "name": "stderr",
     "output_type": "stream",
     "text": [
      "167it [00:01, 124.19it/s]\n",
      "167it [00:00, 1479.31it/s]\n",
      "\n",
      "0%   10   20   30   40   50   60   70   80   90   100%\n",
      "|----|----|----|----|----|----|----|----|----|----|\n",
      "***************************************************\n",
      "\n",
      "0%   10   20   30   40   50   60   70   80   90   100%\n",
      "|----|----|----|----|----|----|----|----|----|----|\n",
      "***************************************************"
     ]
    }
   ],
   "source": [
    "t_test = TextModel()\n",
    "t_test.run()"
   ]
  },
  {
   "cell_type": "code",
   "execution_count": 4,
   "id": "3d6d182f-42a1-4760-8eb5-7a88db697ecc",
   "metadata": {},
   "outputs": [
    {
     "data": {
      "text/plain": [
       "[('immigrant', 0.9267200827598572),\n",
       " ('migrant', 0.6913422346115112),\n",
       " ('united', 0.6802473664283752),\n",
       " ('immigration', 0.6747652292251587),\n",
       " ('seeker', 0.6126804351806641),\n",
       " ('states', 0.6050158739089966),\n",
       " ('meal', 0.5422399044036865),\n",
       " ('legal', 0.5136659741401672),\n",
       " ('ua', 0.513328492641449),\n",
       " ('suite', 0.5087878108024597),\n",
       " ('mobile', 0.49995625019073486),\n",
       " ('speedway', 0.4903315007686615),\n",
       " ('system', 0.48513180017471313),\n",
       " ('grant', 0.4844149649143219),\n",
       " ('case', 0.48115673661231995),\n",
       " ('box', 0.4695478081703186),\n",
       " ('85721', 0.466948539018631),\n",
       " ('manage', 0.46374693512916565),\n",
       " ('food', 0.4621700048446655),\n",
       " ('childhood', 0.45470350980758667)]"
      ]
     },
     "execution_count": 4,
     "metadata": {},
     "output_type": "execute_result"
    }
   ],
   "source": [
    "t_test.ft_model.wv.most_similar(\"refugee\", topn=20, restrict_vocab=5000)"
   ]
  },
  {
   "cell_type": "code",
   "execution_count": 5,
   "id": "4a64d493-6972-4a3a-85df-3bbe4dc16a39",
   "metadata": {},
   "outputs": [],
   "source": [
    "#t.index"
   ]
  },
  {
   "cell_type": "code",
   "execution_count": 6,
   "id": "3b055ab6-9ceb-4b10-b92f-a2390e1bb044",
   "metadata": {},
   "outputs": [
    {
     "name": "stdout",
     "output_type": "stream",
     "text": [
      "Searched 167 records in 0.0005 seconds \n",
      "\n",
      "Our Town Family Center\n",
      "Arizona 211\n",
      "Pima County Att.'s Victim Services Program\n",
      "UA Domestic Violence Clinic\n",
      "ARC (Administration of Resources and Choices) Elder Shelter\n",
      "Mobile Meals of Southern Arizona\n",
      "New Spirit Lutheran Church \n",
      "Catholic Community Services\n",
      "Catholic Community Services Southern\n",
      "Derechos Humanos\n",
      "Florence Immigrant & Refugee Rights Project\n",
      "Iskashitaa Refugee Network\n",
      "Lutheran Social Services of the Southwest\n",
      "Merciful Refugee and Immigrant Services\n",
      "Refugee Mobile App \n",
      "UA Immigration Law Clinic\n",
      "UA Worker's Rights Clinic\n",
      "AZ Law Help \n",
      "Asylum Program of AZ\n",
      "KARE Family Center\n",
      "UA Child and Family Law Clinic\n",
      "International Rescue Committee\n",
      "Crisis Line\n",
      "National Suicide Hotline\n",
      "Gospel Rescue Mission\n",
      "Gospel Rescue Mission: Community Ministries\n",
      "Our Family Services\n",
      "The Salvation Army Hospitality House\n",
      "Project PPEP\n",
      "Salvation Army Utilities/Rent\n"
     ]
    }
   ],
   "source": [
    "results = t.predict(\"immigrant shelter\")\n",
    "for s in t.services:\n",
    "    if s['id'] in results:\n",
    "        print(s['name'])"
   ]
  },
  {
   "cell_type": "code",
   "execution_count": 7,
   "id": "750d696d-13c7-4216-bcb7-442aae8b62e3",
   "metadata": {},
   "outputs": [],
   "source": [
    "#t.save_model()"
   ]
  },
  {
   "cell_type": "code",
   "execution_count": 24,
   "id": "a6784458-0c84-4cfe-8470-4e6dfcd90857",
   "metadata": {},
   "outputs": [
    {
     "name": "stdout",
     "output_type": "stream",
     "text": [
      "Searched 167 records in 0.001 seconds \n",
      "\n",
      "AHCCCS\n",
      "Pima County WIC Program\n",
      "Pima County WIC Program\n",
      "Pima County WIC/Food Plus\n",
      "Pima County WIC\n",
      "WIC Program at Erickson\n",
      "MHC WIC at The Womens Center\n",
      "Arizona Women, Infants, and Children (WIC)\n",
      "Public Benefits Application\n",
      "Mobile Meals of Southern Arizona\n",
      "Pima Meals on Wheels \n",
      "Florence Immigrant & Refugee Rights Project\n"
     ]
    }
   ],
   "source": [
    "results = t_test.predict(\"food\")\n",
    "for s in t_test.services:\n",
    "    if s['id'] in results:\n",
    "        print(s['name'])"
   ]
  },
  {
   "cell_type": "code",
   "execution_count": null,
   "id": "155d4d04-afe1-4528-ad4d-90339f7820d2",
   "metadata": {},
   "outputs": [],
   "source": []
  }
 ],
 "metadata": {
  "kernelspec": {
   "display_name": "Python 3 (ipykernel)",
   "language": "python",
   "name": "python3"
  },
  "language_info": {
   "codemirror_mode": {
    "name": "ipython",
    "version": 3
   },
   "file_extension": ".py",
   "mimetype": "text/x-python",
   "name": "python",
   "nbconvert_exporter": "python",
   "pygments_lexer": "ipython3",
   "version": "3.9.13"
  }
 },
 "nbformat": 4,
 "nbformat_minor": 5
}
