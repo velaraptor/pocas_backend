{
 "cells": [
  {
   "cell_type": "code",
   "execution_count": 1,
   "id": "2c9dd347-8bec-4799-a304-8b4da3b0ecaa",
   "metadata": {},
   "outputs": [
    {
     "name": "stderr",
     "output_type": "stream",
     "text": [
      "/Users/velaraptor/anaconda3/envs/pocas_backend/lib/python3.9/site-packages/tqdm/auto.py:22: TqdmWarning: IProgress not found. Please update jupyter and ipywidgets. See https://ipywidgets.readthedocs.io/en/stable/user_install.html\n",
      "  from .autonotebook import tqdm as notebook_tqdm\n"
     ]
    }
   ],
   "source": [
    "from text import TextModel\n"
   ]
  },
  {
   "cell_type": "code",
   "execution_count": 2,
   "id": "d8be73d0-3458-4a55-8736-d6709944caab",
   "metadata": {},
   "outputs": [
    {
     "name": "stdout",
     "output_type": "stream",
     "text": [
      "[                                                  ]  (0.00%)"
     ]
    }
   ],
   "source": [
    "t = TextModel()\n",
    "t.load_recent_model()"
   ]
  },
  {
   "cell_type": "code",
   "execution_count": 3,
   "id": "8f81f7a2-cfac-4a1a-931a-d0fa6d84a2cb",
   "metadata": {},
   "outputs": [
    {
     "name": "stderr",
     "output_type": "stream",
     "text": [
      "167it [00:01, 149.44it/s]\n",
      "167it [00:00, 1627.36it/s]\n",
      "\n",
      "0%   10   20   30   40   50   60   70   80   90   100%\n",
      "|----|----|----|----|----|----|----|----|----|----|\n",
      "***************************************************\n",
      "\n",
      "0%   10   20   30   40   50   60   70   80   90   100%\n",
      "|----|----|----|----|----|----|----|----|----|----|\n",
      "***************************************************\n",
      "*"
     ]
    }
   ],
   "source": [
    "t_test = TextModel()\n",
    "t_test.run()"
   ]
  },
  {
   "cell_type": "code",
   "execution_count": 4,
   "id": "3d6d182f-42a1-4760-8eb5-7a88db697ecc",
   "metadata": {},
   "outputs": [
    {
     "data": {
      "text/plain": [
       "[('immigrant', 0.8935120701789856),\n",
       " ('refugees', 0.8673990964889526),\n",
       " ('united', 0.8525994420051575),\n",
       " ('clothing', 0.85005122423172),\n",
       " ('asylum', 0.8477186560630798),\n",
       " ('immigrants', 0.8342183232307434),\n",
       " ('food', 0.8253093361854553),\n",
       " ('senior', 0.824385941028595),\n",
       " ('delivered', 0.817974865436554),\n",
       " ('seekers', 0.816143274307251),\n",
       " ('states', 0.8156191110610962),\n",
       " ('catholic', 0.8094590306282043),\n",
       " ('foster', 0.7835173010826111),\n",
       " ('immigration', 0.7764753699302673),\n",
       " ('case', 0.7641343474388123),\n",
       " ('seniors', 0.7581251859664917),\n",
       " ('meals', 0.7574897408485413),\n",
       " ('lutheran', 0.7546472549438477),\n",
       " ('legal', 0.7519733905792236),\n",
       " ('countries', 0.7437121272087097)]"
      ]
     },
     "execution_count": 4,
     "metadata": {},
     "output_type": "execute_result"
    }
   ],
   "source": [
    "t_test.ft_model.wv.most_similar(\"refugee\", topn=20, restrict_vocab=10000)"
   ]
  },
  {
   "cell_type": "code",
   "execution_count": null,
   "id": "4a64d493-6972-4a3a-85df-3bbe4dc16a39",
   "metadata": {},
   "outputs": [],
   "source": [
    "#t.index"
   ]
  },
  {
   "cell_type": "code",
   "execution_count": null,
   "id": "3b055ab6-9ceb-4b10-b92f-a2390e1bb044",
   "metadata": {},
   "outputs": [],
   "source": [
    "# results = t.predict(\"immigrant shelter\")\n",
    "# for s in t.services:\n",
    "#     if s['id'] in results:\n",
    "#         print(s['name'])"
   ]
  },
  {
   "cell_type": "code",
   "execution_count": null,
   "id": "750d696d-13c7-4216-bcb7-442aae8b62e3",
   "metadata": {},
   "outputs": [],
   "source": [
    "#t.save_model()"
   ]
  },
  {
   "cell_type": "code",
   "execution_count": 10,
   "id": "f497766a-a3ba-46e0-866a-7ee4026c7144",
   "metadata": {},
   "outputs": [
    {
     "data": {
      "text/plain": [
       "{'name': 'Iskashitaa Refugee Network',\n",
       " 'phone': 15204400100,\n",
       " 'address': '1406 E Grant Rd Bldg. #2',\n",
       " 'general_topic': 'Immigrant/Refugee Resources',\n",
       " 'tags': [],\n",
       " 'city': 'Tucson',\n",
       " 'state': 'AZ',\n",
       " 'lat': 32.249579,\n",
       " 'lon': -110.950792,\n",
       " 'zip_code': 85719,\n",
       " 'web_site': 'iskashitaa.org',\n",
       " 'days': None,\n",
       " 'hours': None,\n",
       " 'id': '632259bda6904810a4353d98',\n",
       " 'pocas_score': None,\n",
       " 'description': '\\nIskashitaa Refugee Network creates opportunities to integrate UN refugees into the Southern Arizona community while educating the public and strengthening the local food system, reducing local food waste, and increasing food security. \\n'}"
      ]
     },
     "execution_count": 10,
     "metadata": {},
     "output_type": "execute_result"
    }
   ],
   "source": [
    "t_test.services[99]"
   ]
  },
  {
   "cell_type": "code",
   "execution_count": 11,
   "id": "a6784458-0c84-4cfe-8470-4e6dfcd90857",
   "metadata": {},
   "outputs": [
    {
     "name": "stdout",
     "output_type": "stream",
     "text": [
      "[ 0.43500447 -0.32734624 -0.6118705  -0.64777684  0.36098778  0.16275074\n",
      "  0.06431343 -0.26460272  0.01455643 -0.13462795  0.14470746 -0.30430514\n",
      " -0.195126    0.30166596 -0.07806963  0.02740992  0.29505527 -0.29037145\n",
      " -0.06366083 -0.29492262 -0.98574317  0.53624034 -0.16786194 -0.16159509\n",
      " -0.13321851 -0.20654348 -0.00364646 -0.26422575 -0.20193473  0.17380631\n",
      " -0.31748694 -0.44107696 -0.4934507  -0.04999975 -0.17382194 -0.07880458\n",
      " -0.43217295  0.08430817  0.33016685  0.3316155   0.41949528 -0.6361266\n",
      "  0.13690625  0.11670251 -0.17021662  0.40733108 -0.05098971  0.40187728\n",
      " -0.30951145 -0.17016526  0.04384644  0.03026018 -0.61911416 -0.27734798\n",
      "  0.0615617  -0.3940571   0.13336614 -0.2297375  -0.42091474  0.031398\n",
      " -0.28867078  0.2697659  -0.06580772 -0.48309404 -0.35031062  0.16221291\n",
      " -0.35185742 -0.15434113 -0.3407057   0.07507113  0.16549256 -0.23723362\n",
      " -0.16285652 -0.07881808  0.40182894 -0.05195475  0.01566779  0.0866866\n",
      " -0.25804442 -0.15416095  0.06531208 -0.39887407 -0.07302595 -0.03147741\n",
      "  0.18663928  0.13976002  0.10952092 -0.46425563 -0.00330217 -0.3796114\n",
      "  0.22713627  0.04197469  0.04224393 -0.35608312 -0.2130297   0.19334128\n",
      "  0.7687687  -0.02622643 -0.12963721 -0.24770235]\n",
      "Searched 167 records in 0.0056 seconds \n",
      "\n",
      "99 0.21334147\n",
      "96 0.21391672\n",
      "95 0.21477818\n",
      "98 0.21535897\n",
      "107 0.22487241\n",
      "100 0.23122346\n",
      "103 0.23915017\n",
      "101 0.24185252\n",
      "34 0.24277675\n",
      "3 0.25239497\n",
      "102 0.25247204\n",
      "97 0.26617503\n",
      "117 0.2675948\n",
      "48 0.27049732\n",
      "59 0.2733519\n",
      "63 0.27491868\n",
      "87 0.28226453\n",
      "61 0.2827847\n",
      "56 0.28588784\n",
      "36 0.28867507\n",
      "58 0.29026604\n",
      "37 0.29197\n",
      "163 0.29406166\n",
      "154 0.29763854\n",
      "62 0.29766434\n",
      "44 0.29969805\n",
      "157 0.30079502\n",
      "45 0.3009799\n",
      "66 0.30184293\n",
      "46 0.30215353\n",
      "Iskashitaa Refugee Network\n",
      "Catholic Community Services Southern\n",
      "Catholic Community Services\n",
      "Florence Immigrant & Refugee Rights Project\n",
      "Asylum Program of AZ\n",
      "Lutheran Social Services of the Southwest\n",
      "UA Immigration Law Clinic\n",
      "Merciful Refugee and Immigrant Services\n",
      "Public Benefits Application\n",
      "AHCCCS\n",
      "Refugee Mobile App \n",
      "Derechos Humanos\n",
      "International Rescue Committee\n",
      "Tucson Urban League\n",
      "ARC (Administration of Resources and Choices) Elder Shelter\n",
      "Pima Meals on Wheels \n",
      "New Spirit Lutheran Church \n",
      "Food Box Program \n",
      "Pima County Att.'s Victim Services Program\n",
      "Public Benefits Screening\n",
      "UA Domestic Violence Clinic\n",
      "Arizona 211\n",
      "Project PPEP\n",
      "Primavera Foundation - Project Action for Veterans\n",
      "Mobile Meals of Southern Arizona\n",
      "Housing and Community Development\n",
      "The Salvation Army Hospitality House\n",
      "Tucson Section 8 Housing Program\n",
      "ANCHOR Project \n",
      "City of Tucson, Housing Application Hotline\n"
     ]
    }
   ],
   "source": [
    "results = t_test.predict(\"REFUGEE\")\n",
    "for r in results:\n",
    "    for s in t_test.services:\n",
    "        if r == s['id']:\n",
    "            print(s['name'])"
   ]
  },
  {
   "cell_type": "code",
   "execution_count": 14,
   "id": "155d4d04-afe1-4528-ad4d-90339f7820d2",
   "metadata": {},
   "outputs": [
    {
     "name": "stdout",
     "output_type": "stream",
     "text": [
      "[ 0.18075468 -0.03269074 -0.08870825 -0.346764    0.2045581   0.19301268\n",
      " -0.06192365 -0.44466865  0.11486711  0.22991228 -0.15576027 -0.3937491\n",
      " -0.4932397   0.25565383 -0.264571   -0.36622053  0.10601254  0.05708178\n",
      " -0.2178593  -0.21849102 -0.5952418   0.865744    0.34019727  0.16226046\n",
      "  0.23290905 -0.2126822   0.15834437 -0.29585558  0.12997465 -0.1025549\n",
      "  0.11179689  0.19328663 -0.5382925  -0.08821914 -0.35371155  0.45971978\n",
      " -0.26746693  0.15566972 -0.18158278  0.4756768   0.32564843 -0.8073257\n",
      " -0.07283305  0.16724402  0.15544012  0.36165747 -0.21743405 -0.14271389\n",
      " -0.10924162  0.3255976   0.21597902  0.16329193 -0.21675889 -0.2169402\n",
      "  0.31629756  0.03859918 -0.12706421 -0.27413136 -0.27402908  0.20792761\n",
      " -0.09159885  0.23538586 -0.13431436 -0.28368086  0.06707907  0.61871433\n",
      " -0.24414755 -0.3536287  -0.57408357  0.11491671  0.1358366  -0.19454896\n",
      " -0.19517264 -0.39710256  0.81768966  0.42781323 -0.01666316 -0.04903974\n",
      "  0.15945354 -0.23744133  0.19024785 -0.00695765 -0.1151952   0.11959349\n",
      "  0.08375373 -0.18465628 -0.08661024 -0.24507377 -0.05152687  0.07002988\n",
      " -0.05504423 -0.27546716  0.06171827 -0.6936694  -0.19044466  0.02952474\n",
      "  0.47829974 -0.4661011  -0.07679883  0.1111061 ]\n",
      "Searched 167 records in 0.0023 seconds \n",
      "\n",
      "55 0.19112849\n",
      "103 0.19162935\n",
      "114 0.21325636\n",
      "95 0.21598673\n",
      "96 0.21851885\n",
      "58 0.23025298\n",
      "106 0.250372\n",
      "52 0.2662384\n",
      "98 0.26959324\n",
      "112 0.26976478\n",
      "154 0.2915011\n",
      "105 0.29468238\n",
      "59 0.30104083\n",
      "34 0.31723273\n",
      "104 0.31732666\n",
      "100 0.323061\n",
      "60 0.3243413\n",
      "30 0.32565856\n",
      "29 0.32565856\n",
      "37 0.32774097\n",
      "6 0.32774156\n",
      "3 0.32797694\n",
      "61 0.3293252\n",
      "97 0.3301525\n",
      "53 0.3312831\n",
      "54 0.3312831\n",
      "107 0.33142036\n",
      "88 0.3318349\n",
      "46 0.33186197\n",
      "45 0.33312285\n",
      "Late Life Domestic Violence Program\n",
      "UA Immigration Law Clinic\n",
      "UA Child and Family Law Clinic\n",
      "Catholic Community Services\n",
      "Catholic Community Services Southern\n",
      "UA Domestic Violence Clinic\n",
      "AZ Law Help \n",
      "AZ Coalition Against Domestic Violence Hotline\n",
      "Florence Immigrant & Refugee Rights Project\n",
      "Southern Arizona Legal Aid\n",
      "Primavera Foundation - Project Action for Veterans\n",
      "Arizona Center for Disability Law\n",
      "ARC (Administration of Resources and Choices) Elder Shelter\n",
      "Public Benefits Application\n",
      "UA Worker's Rights Clinic\n",
      "Lutheran Social Services of the Southwest\n",
      "Community Food Bank\n",
      "SSA\n",
      "SSA\n",
      "Arizona 211\n",
      "Medicare Premium Cost Sharing (QMB/SLMB/QI)\n",
      "AHCCCS\n",
      "Food Box Program \n",
      "Derechos Humanos\n",
      "Emerge! Center Against Domestic Abuse\n",
      "Emerge! Center Against Domestic Abuse\n",
      "Asylum Program of AZ\n",
      "Casa De Los Ninos \n",
      "City of Tucson, Housing Application Hotline\n",
      "Tucson Section 8 Housing Program\n"
     ]
    }
   ],
   "source": [
    "results = t_test.predict(\"domestic violence\")\n",
    "for r in results:\n",
    "    for s in t_test.services:\n",
    "        if r == s['id']:\n",
    "            print(s['name'])"
   ]
  },
  {
   "cell_type": "code",
   "execution_count": 9,
   "id": "d5311e99-c18c-4ba3-8c90-5e915e4fd2c8",
   "metadata": {},
   "outputs": [
    {
     "data": {
      "text/plain": [
       "['632259bda6904810a4353d96',\n",
       " '632259bda6904810a4353d94',\n",
       " '632259bda6904810a4353d93',\n",
       " '632259bda6904810a4353d9c',\n",
       " '632259bda6904810a4353da0',\n",
       " '632259bda6904810a4353d99',\n",
       " '632259bda6904810a4353d4d',\n",
       " '632259bda6904810a4353d9a',\n",
       " '632259bda6904810a4353d98',\n",
       " '632259bda6904810a4353d2c',\n",
       " '632259bda6904810a4353d95',\n",
       " '632259bda6904810a4353d69',\n",
       " '632259bda6904810a4353d5e',\n",
       " '632259bda6904810a4353d68',\n",
       " '632259bda6904810a4353d9b',\n",
       " '632259bda6904810a4353d4f',\n",
       " '632259bda6904810a4353d6f',\n",
       " '632259bda6904810a4353d9f',\n",
       " '632259bda6904810a4353d9d',\n",
       " '632259bda6904810a4353d6d',\n",
       " '632259bda6904810a4353db1',\n",
       " '632259bda6904810a4353d8b',\n",
       " '632259bda6904810a4353dac',\n",
       " '632259bda6904810a4353d6e',\n",
       " '632259bda6904810a4353d66',\n",
       " '632259bda6904810a4353d9e',\n",
       " '632259bda6904810a4353d5b',\n",
       " '632259bda6904810a4353d53',\n",
       " '632259bda6904810a4353dae',\n",
       " '632259bda6904810a4353d65']"
      ]
     },
     "execution_count": 9,
     "metadata": {},
     "output_type": "execute_result"
    }
   ],
   "source": [
    "results"
   ]
  },
  {
   "cell_type": "code",
   "execution_count": null,
   "id": "1f845526-7988-4135-a7a7-47b889359b25",
   "metadata": {},
   "outputs": [],
   "source": [
    "t_test.services"
   ]
  },
  {
   "cell_type": "code",
   "execution_count": null,
   "id": "b529b2bf-b184-4d84-8cf1-4a4d89bf2056",
   "metadata": {},
   "outputs": [],
   "source": []
  }
 ],
 "metadata": {
  "kernelspec": {
   "display_name": "Python 3 (ipykernel)",
   "language": "python",
   "name": "python3"
  },
  "language_info": {
   "codemirror_mode": {
    "name": "ipython",
    "version": 3
   },
   "file_extension": ".py",
   "mimetype": "text/x-python",
   "name": "python",
   "nbconvert_exporter": "python",
   "pygments_lexer": "ipython3",
   "version": "3.9.13"
  }
 },
 "nbformat": 4,
 "nbformat_minor": 5
}
