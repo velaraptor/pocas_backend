{
 "cells": [
  {
   "cell_type": "code",
   "execution_count": 1,
   "id": "2c9dd347-8bec-4799-a304-8b4da3b0ecaa",
   "metadata": {},
   "outputs": [
    {
     "name": "stderr",
     "output_type": "stream",
     "text": [
      "/Users/velaraptor/anaconda3/envs/pocas_backend/lib/python3.9/site-packages/tqdm/auto.py:22: TqdmWarning: IProgress not found. Please update jupyter and ipywidgets. See https://ipywidgets.readthedocs.io/en/stable/user_install.html\n",
      "  from .autonotebook import tqdm as notebook_tqdm\n"
     ]
    }
   ],
   "source": [
    "from text import TextModel"
   ]
  },
  {
   "cell_type": "code",
   "execution_count": 2,
   "id": "d8be73d0-3458-4a55-8736-d6709944caab",
   "metadata": {},
   "outputs": [],
   "source": [
    "t = TextModel()"
   ]
  },
  {
   "cell_type": "code",
   "execution_count": null,
   "id": "f85ac9c4-103a-4e43-a95b-a2a09958f961",
   "metadata": {},
   "outputs": [],
   "source": [
    "t.load_recent_model()"
   ]
  },
  {
   "cell_type": "code",
   "execution_count": 3,
   "id": "8f81f7a2-cfac-4a1a-931a-d0fa6d84a2cb",
   "metadata": {},
   "outputs": [
    {
     "name": "stderr",
     "output_type": "stream",
     "text": [
      "167it [00:01, 86.24it/s] \n",
      "167it [00:00, 715.26it/s]\n",
      "\n",
      "0%   10   20   30   40   50   60   70   80   90   100%\n",
      "|----|----|----|----|----|----|----|----|----|----|\n",
      "***************************************************\n",
      "\n",
      "0%   10   20   30   40   50   60   70   80   90   100%\n",
      "|----|----|----|----|----|----|----|----|----|----|\n",
      "***************************************************"
     ]
    }
   ],
   "source": [
    "t.run()"
   ]
  },
  {
   "cell_type": "code",
   "execution_count": null,
   "id": "3d6d182f-42a1-4760-8eb5-7a88db697ecc",
   "metadata": {},
   "outputs": [],
   "source": [
    "# t.ft_model.wv.most_similar(\"refugee\", topn=20, restrict_vocab=5000)"
   ]
  },
  {
   "cell_type": "code",
   "execution_count": null,
   "id": "4a64d493-6972-4a3a-85df-3bbe4dc16a39",
   "metadata": {},
   "outputs": [],
   "source": [
    "t.index"
   ]
  },
  {
   "cell_type": "code",
   "execution_count": 4,
   "id": "3b055ab6-9ceb-4b10-b92f-a2390e1bb044",
   "metadata": {},
   "outputs": [
    {
     "name": "stdout",
     "output_type": "stream",
     "text": [
      "[-0.11604589  0.34523258 -0.29269683 -0.10084733  0.159306    0.05920801\n",
      "  0.01931716 -0.06088183 -0.5192871  -0.28390822 -0.15950406 -0.4425694\n",
      " -0.15686776  0.2766383   0.12661757  0.3025884   0.0569813  -0.17617886\n",
      " -0.1749456   0.02057225 -0.1237454  -0.00265802 -0.0816972   0.04963428\n",
      "  0.44060043  0.15935116 -0.24818712 -0.24579997  0.02269113 -0.08906905\n",
      " -0.05876764  0.06110828 -0.34011063  0.00502553 -0.04936883 -0.13072254\n",
      " -0.1730359   0.2500364  -0.10026179  0.4142759  -0.1031476   0.03507088\n",
      " -0.02668322  0.05447203  0.0109724   0.3669136   0.2330997  -0.03839715\n",
      " -0.42905483 -0.09404331  0.3374008   0.03389199  0.18616559 -0.11809576\n",
      " -0.2856576  -0.3555614  -0.24594553  0.23095103 -0.20219028  0.40118396\n",
      "  0.20634888 -0.38820943 -0.2672598  -0.35799637 -0.06376757  0.31471628\n",
      " -0.17791785  0.04002849  0.02788508  0.20493849 -0.28765064 -0.5388034\n",
      " -0.18182278 -0.01252161  0.01816386  0.17280538 -0.06923167  0.12078693\n",
      " -0.18561469 -0.18004423 -0.1478626   0.13348676 -0.1690145  -0.26534006\n",
      " -0.1699893   0.20150428  0.09434817 -0.3966523  -0.02963377 -0.17585845\n",
      " -0.00923499 -0.21142511  0.2298867  -0.1756923   0.14508629  0.01607165\n",
      "  0.19066052  0.34445438  0.30764076 -0.12437082]\n",
      "Searched 167 records in 0.0034 seconds \n",
      "\n"
     ]
    }
   ],
   "source": [
    "results = t.predict(\"mens shelter immigrant\")"
   ]
  },
  {
   "cell_type": "code",
   "execution_count": 5,
   "id": "4ab6d5c8-2025-41f3-93f7-f5ae4c5bbf96",
   "metadata": {},
   "outputs": [
    {
     "data": {
      "text/plain": [
       "['632259bda6904810a4353d9a',\n",
       " '632259bda6904810a4353d96',\n",
       " '632259bda6904810a4353d94',\n",
       " '632259bda6904810a4353d93',\n",
       " '632259bda6904810a4353d9b',\n",
       " '632259bda6904810a4353d98',\n",
       " '632259bda6904810a4353d99',\n",
       " '632259bda6904810a4353ddb',\n",
       " '632259bda6904810a4353db1',\n",
       " '632259bda6904810a4353d2a',\n",
       " '632259bda6904810a4353d9c',\n",
       " '632259bda6904810a4353ddc',\n",
       " '632259bda6904810a4353da4',\n",
       " '632259bda6904810a4353d69',\n",
       " '632259bda6904810a4353db3']"
      ]
     },
     "execution_count": 5,
     "metadata": {},
     "output_type": "execute_result"
    }
   ],
   "source": [
    "results"
   ]
  },
  {
   "cell_type": "code",
   "execution_count": 6,
   "id": "750d696d-13c7-4216-bcb7-442aae8b62e3",
   "metadata": {},
   "outputs": [
    {
     "name": "stdout",
     "output_type": "stream",
     "text": [
      "Writing object to key: model/03_27_2023/model.pickle\n",
      "ft_model.bin.wv.vectors_ngrams.npy  800000128 / 800000128.0  (100.00%)"
     ]
    }
   ],
   "source": [
    "t.save_model()"
   ]
  },
  {
   "cell_type": "code",
   "execution_count": null,
   "id": "a6784458-0c84-4cfe-8470-4e6dfcd90857",
   "metadata": {},
   "outputs": [],
   "source": []
  }
 ],
 "metadata": {
  "kernelspec": {
   "display_name": "Python 3 (ipykernel)",
   "language": "python",
   "name": "python3"
  },
  "language_info": {
   "codemirror_mode": {
    "name": "ipython",
    "version": 3
   },
   "file_extension": ".py",
   "mimetype": "text/x-python",
   "name": "python",
   "nbconvert_exporter": "python",
   "pygments_lexer": "ipython3",
   "version": "3.9.13"
  }
 },
 "nbformat": 4,
 "nbformat_minor": 5
}
