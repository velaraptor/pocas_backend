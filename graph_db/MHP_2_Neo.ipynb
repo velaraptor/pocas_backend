{
 "cells": [
  {
   "cell_type": "code",
   "execution_count": 17,
   "id": "564b1cb6-c9ab-4387-abd5-bf3c7835e657",
   "metadata": {},
   "outputs": [],
   "source": [
    "from dotenv import load_dotenv\n",
    "from datetime import datetime\n",
    "load_dotenv()\n",
    "\n",
    "from function.packages.neo4jdb.generate.utils.api2neo import Analytics2NeoImporter, API2NeoImporter\n",
    "from function.packages.neo4jdb.generate.utils.neo import BaseNeoImporter"
   ]
  },
  {
   "cell_type": "markdown",
   "id": "b311d97a-5884-4a9a-9339-3843932540bb",
   "metadata": {},
   "source": [
    "## Make sure to run Local Neo4j"
   ]
  },
  {
   "cell_type": "markdown",
   "id": "72b52fc7-5c19-4cc9-9a50-d837bfd79cc4",
   "metadata": {},
   "source": [
    "```shell\n",
    "docker-compose up -d --build\n",
    "```"
   ]
  },
  {
   "cell_type": "code",
   "execution_count": 3,
   "id": "20e9fdd1-b9a6-4792-8ee3-383ea70a3508",
   "metadata": {},
   "outputs": [],
   "source": [
    "neo = BaseNeoImporter(node_type='Services')\n",
    "with neo.driver.session() as session:\n",
    "    session.run(\"\"\"MATCH (n) DETACH DELETE n;\"\"\")"
   ]
  },
  {
   "cell_type": "markdown",
   "id": "9c83e7a5-d3ec-4046-9979-f33d50aca016",
   "metadata": {},
   "source": [
    "# Use Backup in Digital Ocean Spaces"
   ]
  },
  {
   "cell_type": "code",
   "execution_count": 4,
   "id": "b5cee614-20d7-4e7c-a051-e8b160642275",
   "metadata": {},
   "outputs": [
    {
     "name": "stdout",
     "output_type": "stream",
     "text": [
      "Services Data \n",
      "\n",
      "{'tag_nodes': 187, 'nodes': 187}\n",
      "{'name': 'S. AZ Gender Alliance', 'phone': 5204777096, 'address': '2030 EAST BROADWAY', 'general_topic': 'LGBTQ', 'tags': ['LGBTQ'], 'city': 'Tuscon', 'state': 'AZ', 'lat': 32.2210873, 'lon': -110.94121, 'zip_code': 85719, 'web_site': 'http://www.sagatucson.org/', 'days': None, 'hours': None, 'id': '632259bda6904810a4353d29', 'mongo_id': '632259bda6904810a4353d29', 'main_tag': 'LGBTQ'}\n",
      "\n",
      "Questions Data \n",
      "\n",
      "{'tag_nodes': 30, 'nodes': 30}\n",
      "{'id': 1, 'question': 'Is anyone scaring, threatening or hurting you or your children?', 'tags': ['Domestic Violence', 'Shelter', 'Family'], 'main_tag': 'Family', 'mongo_id': 1, 'name': 'Is anyone scaring, threatening or hurting you or your children?'}\n"
     ]
    }
   ],
   "source": [
    "static_date = int(datetime.now().timestamp())\n",
    "impo_services = BaseNeoImporter(node_type='Services', space='api', static_date=static_date)\n",
    "impo_services.execute_date_node()\n",
    "print('Services Data \\n')\n",
    "impo_services.run()\n",
    "print(impo_services.data[0])\n",
    "\n",
    "\n",
    "impo_q = BaseNeoImporter(node_type='Questions', space='api', static_date=static_date)\n",
    "print('\\nQuestions Data \\n')\n",
    "impo_q.run()\n",
    "print(impo_q.data[0])"
   ]
  },
  {
   "cell_type": "markdown",
   "id": "ca3b7af3-c507-4ace-9de0-5c8e0a8c61eb",
   "metadata": {},
   "source": [
    "## Use API to Import to Neo4j"
   ]
  },
  {
   "cell_type": "code",
   "execution_count": 5,
   "id": "8bb0ecaa-1a54-4cf7-bc8f-5c12e955dee8",
   "metadata": {},
   "outputs": [
    {
     "name": "stdout",
     "output_type": "stream",
     "text": [
      "Using API: https://mhpportal.app\n",
      "Questions Data \n",
      "\n",
      "{'tag_nodes': 30, 'nodes': 30}\n",
      "{'id': 1, 'question': 'Is anyone scaring, threatening or hurting you or your children?', 'tags': ['Domestic Violence', 'Shelter', 'Family'], 'main_tag': 'Family', 'mongo_id': 1, 'name': 'Is anyone scaring, threatening or hurting you or your children?'}\n",
      "['Addiction Resources', 'Adolescent', 'Child Support', 'Children', 'Disability', 'Domestic Violence', 'Education', 'Elder', 'Employment', 'Family', 'Food Insecurity', 'Food and Nutrition', 'Health Care Resources', 'Health Insurance', 'Home', 'Housing', 'Identity', 'Income', 'Indigent', 'LGBTQ', 'Legal Assistance', 'Legal Services', 'Low Income', 'Mental Health', 'Prescription Medication Assistance', 'Public Benefits', 'Shelter', 'Social Security', 'Special Education', 'Substance Abuse', 'Transportation', 'Utility Assistance', 'Women Health', 'Young Adult']\n",
      "\n",
      "Services Data \n",
      "\n",
      "{'tag_nodes': 177, 'nodes': 177}\n",
      "{'name': 'S. AZ Gender Alliance', 'phone': 5204777096, 'address': '2030 EAST BROADWAY', 'general_topic': 'LGBTQ', 'tags': ['LGBTQ'], 'city': 'Tuscon', 'state': 'AZ', 'lat': 32.2210873, 'lon': -110.94121, 'zip_code': 85719, 'web_site': 'http://www.sagatucson.org/', 'days': None, 'hours': None, 'id': '632259bda6904810a4353d29', 'mongo_id': '632259bda6904810a4353d29', 'main_tag': 'LGBTQ'}\n",
      "['Addiction Resources', 'Adolescent', 'Child Support', 'Children', 'Dental', 'Disability', 'Domestic Violence', 'Education', 'Elder', 'Employment', 'Family', 'Food and Nutrition', 'Health Care Resources', 'Health Insurance', 'Housing', 'Immigrant/Refugee Resources', 'Indigent', 'LGBTQ', 'Legal Assistance', 'Legal Services', 'Low Income', 'Mental Health', 'Prescription Medication Assistance', 'Public Benefits', 'Shelter', 'Social Security', 'Special Education', 'Substance Abuse', 'Transportation', 'Utility Assistance', 'Women Health', 'Young Adult Resources']\n"
     ]
    }
   ],
   "source": [
    "# note mhp docker services must be running locally which will be a port 80\n",
    "# if not use production server: https://mhpportal.app\n",
    "static_date = int(datetime.now().timestamp())\n",
    "api_path = 'https://mhpportal.app'\n",
    "print(f'Using API: {api_path}')\n",
    "q = API2NeoImporter(node_type='Questions', api_path=api_path, static_date=static_date)\n",
    "q.execute_date_node()\n",
    "print('Questions Data \\n')\n",
    "q.run()\n",
    "print(q.data[0])\n",
    "print(q.tags)\n",
    "\n",
    "s = API2NeoImporter(node_type='Services', api_path=api_path, static_date=static_date)\n",
    "print('\\nServices Data \\n')\n",
    "s.run()\n",
    "print(s.data[0])\n",
    "print(s.tags)\n"
   ]
  },
  {
   "cell_type": "code",
   "execution_count": 6,
   "id": "eb763a89-02cf-4c3f-bf34-a8c2b4a44a48",
   "metadata": {},
   "outputs": [],
   "source": [
    "# QA wrong node type\n",
    "# impo_services = BaseNeoImporter(node_type='Service')"
   ]
  },
  {
   "cell_type": "markdown",
   "id": "aec97d25-12e0-47b9-a6f6-4fc6a4b840ba",
   "metadata": {},
   "source": [
    "# Cypher Queries\n",
    "<img src=\"static/graph.png\">\n",
    "\n",
    "* https://neo4j.com/docs/graph-data-science/current/algorithms/node-similarity/\n",
    "* https://neo4j.com/docs/graph-data-science/current/algorithms/knn/\n",
    "* https://neo4j.com/docs/graph-data-science/current/algorithms/bfs/\n",
    "* https://neo4j.com/docs/graph-data-science/current/machine-learning/linkprediction-pipelines/link-prediction/\n",
    "\n",
    "## Show all relationships \n",
    "<hr>\n",
    "\n",
    "```cypher\n",
    "MATCH p=()-[r:TAGGED]-() RETURN p;\n",
    "```"
   ]
  },
  {
   "cell_type": "markdown",
   "id": "009f2322-fb73-427c-989a-f9f19936f28a",
   "metadata": {},
   "source": [
    "## Get Node Similiarties\n",
    "<hr>\n",
    "\n",
    "```cypher\n",
    "CALL gds.graph.project(\n",
    "    'myGraph',\n",
    "    ['Tags', 'Services', 'Questions'],\n",
    "    {\n",
    "        TAGGED: {\n",
    "        }\n",
    "    }\n",
    ");\n",
    "```\n",
    "\n",
    "\n",
    "```cypher\n",
    "CALL gds.nodeSimilarity.write('myGraph', {\n",
    "    writeRelationshipType: 'SIMILAR',\n",
    "    writeProperty: 'score'\n",
    "})\n",
    "YIELD nodesCompared, relationshipsWritten;\n",
    "```\n",
    "\n",
    "\n",
    "```cypher\n",
    "MATCH p=()-[r:SIMILAR]-() WHERE r.score > 0.75 RETURN p;\n",
    "```"
   ]
  },
  {
   "cell_type": "markdown",
   "id": "bf297f39-93d3-42be-8a53-35da319be9d2",
   "metadata": {},
   "source": [
    "## Link Prediction\n",
    "<hr>\n",
    "\n",
    "```cypher\n",
    "\n",
    "CALL gds.beta.pipeline.linkPrediction.create('pipe');\n",
    "\n",
    "                                             \n",
    "CALL gds.beta.pipeline.linkPrediction.configureSplit('pipe', {\n",
    "  testFraction: 0.25,\n",
    "  trainFraction: 0.6,\n",
    "  validationFolds: 3\n",
    "})\n",
    "YIELD splitConfig;\n",
    "\n",
    "\n",
    "CALL gds.alpha.pipeline.linkPrediction.addMLP('pipe',\n",
    "{hiddenLayerSizes: [4, 2], penalty: 1, patience: 2})\n",
    "YIELD parameterSpace;\n",
    "\n",
    "\n",
    "CALL gds.alpha.pipeline.linkPrediction.configureAutoTuning('pipe', {\n",
    "  maxTrials: 2\n",
    "}) YIELD autoTuningConfig;\n",
    "\n",
    "\n",
    "\n",
    "CALL gds.graph.project(\n",
    "  'testGraph',\n",
    "  {\n",
    "    Services: {\n",
    "      properties: ['created']\n",
    "    }\n",
    "  },\n",
    "  {\n",
    "    TAGGED: {\n",
    "      orientation: 'UNDIRECTED'\n",
    "    }\n",
    "  }\n",
    ");\n",
    "\n",
    "\n",
    "CALL gds.beta.pipeline.linkPrediction.train('testGraph', {\n",
    "  pipeline: 'pipe',\n",
    "  modelName: 'lp-pipeline-model',\n",
    "  metrics: ['AUCPR', 'OUT_OF_BAG_ERROR'],\n",
    "  targetRelationshipType: 'TAGGED',\n",
    "  randomSeed: 73\n",
    "}) YIELD modelInfo, modelSelectionStats\n",
    "RETURN\n",
    "  modelInfo.bestParameters AS winningModel,\n",
    "  modelInfo.metrics.AUCPR.train.avg AS avgTrainScore,\n",
    "  modelInfo.metrics.AUCPR.outerTrain AS outerTrainScore,\n",
    "  modelInfo.metrics.AUCPR.test AS testScore,\n",
    "  [cand IN modelSelectionStats.modelCandidates | cand.metrics.AUCPR.validation.avg] AS validationScores;\n",
    "    \n",
    "    \n",
    "CALL gds.beta.pipeline.linkPrediction.predict.stream('testGraph', {\n",
    "  modelName: 'lp-pipeline-model',\n",
    "  topN: 5,\n",
    "  threshold: 0.5\n",
    "})\n",
    " YIELD node1, node2, probability\n",
    " RETURN gds.util.asNode(node1).name AS person1, gds.util.asNode(node2).name AS person2, probability\n",
    " ORDER BY probability DESC, person1;\n",
    "```"
   ]
  },
  {
   "cell_type": "markdown",
   "id": "0a98b225-334c-473d-98a4-41d980176a09",
   "metadata": {},
   "source": [
    "## Get Services not tied to Question\n",
    "<hr>\n",
    "\n",
    "### Get Services not tied to Question\n",
    "\n",
    "```cypher\n",
    "MATCH (n:Services)-[:TAGGED]->(n1:Tags) \n",
    "WHERE NOT (n1)-[:TAGGED]-(:Questions) \n",
    "// Young Adult Resources is tied by Age Question\n",
    "      AND n1.name <> 'Young Adult Resources' \n",
    "      AND NOT (n)-[:TAGGED]-(n1)-[:TAGGED]-(:Questions)\n",
    "RETURN n.id as service_id, n.name as service, COLLECT(n1.name) as tags \n",
    "ORDER BY tags;\n",
    "```\n",
    "\n",
    "\n",
    "### Get Tags not tied to Question\n",
    "\n",
    "```cypher\n",
    "MATCH (n:Services)-[:TAGGED]->(n1:Tags) \n",
    "WHERE NOT (n1)-[:TAGGED]-(:Questions) \n",
    "// Young Adult Resources is tied by Age Question\n",
    "      AND n1.name <> 'Young Adult Resources' \n",
    "WITH n1.name as tags \n",
    "RETURN DISTINCT tags as tag\n",
    "ORDER BY tag;\n",
    "```"
   ]
  },
  {
   "cell_type": "code",
   "execution_count": 7,
   "id": "5820ee7f-f72b-4559-b832-119edf499113",
   "metadata": {},
   "outputs": [],
   "source": [
    "neo = BaseNeoImporter(node_type='Services')\n",
    "\n",
    "with neo.driver.session() as session:\n",
    "    data = session.run(\"\"\"\n",
    "        MATCH (n:Services)-[:TAGGED]->(n1:Tags) \n",
    "    WHERE NOT (n1)-[:TAGGED]-(:Questions) \n",
    "    // Young Adult Resources is tied by Age Question\n",
    "          AND n1.name <> 'Young Adult Resources' \n",
    "          AND NOT (n)-[:TAGGED]-(n1)-[:TAGGED]-(:Questions)\n",
    "    RETURN n.id as service_id, n.name as service, COLLECT(n1.name) as tags \n",
    "    ORDER BY tags;\n",
    "    \"\"\")\n",
    "    df = data.to_df()"
   ]
  },
  {
   "cell_type": "code",
   "execution_count": 8,
   "id": "6eebfe17-ad42-4a2b-859f-7545402346d4",
   "metadata": {},
   "outputs": [
    {
     "data": {
      "text/plain": [
       "[{'service_id': '632259bda6904810a4353d7c',\n",
       "  'service': 'El Rio Community Center-Northwest Dental',\n",
       "  'tags': ['Dental', 'Dental']},\n",
       " {'service_id': '632259bda6904810a4353d81',\n",
       "  'service': 'El Rio Southwest Dental ',\n",
       "  'tags': ['Dental', 'Dental']},\n",
       " {'service_id': '632259bda6904810a4353d83',\n",
       "  'service': 'El Rio Community Health Center-Congress Dental Center',\n",
       "  'tags': ['Dental', 'Dental']},\n",
       " {'service_id': '632259bda6904810a4353d7d',\n",
       "  'service': 'El Rio-Congress Dental Center',\n",
       "  'tags': ['Dental', 'Dental']},\n",
       " {'service_id': '632259bda6904810a4353d82',\n",
       "  'service': 'El Rio Community Health Center-Northwest Dental ',\n",
       "  'tags': ['Dental', 'Dental']},\n",
       " {'service_id': '632259bda6904810a4353d97',\n",
       "  'service': 'International Rescue Committee',\n",
       "  'tags': ['Immigrant/Refugee Resources']},\n",
       " {'service_id': '632259bda6904810a4353db1',\n",
       "  'service': 'International Rescue Committee',\n",
       "  'tags': ['Immigrant/Refugee Resources']},\n",
       " {'service_id': '632259bda6904810a4353d9a',\n",
       "  'service': 'Merciful Refugee and Immigrant Services',\n",
       "  'tags': ['Immigrant/Refugee Resources', 'Immigrant/Refugee Resources']},\n",
       " {'service_id': '632259bda6904810a4353d98',\n",
       "  'service': 'Iskashitaa Refugee Network',\n",
       "  'tags': ['Immigrant/Refugee Resources', 'Immigrant/Refugee Resources']},\n",
       " {'service_id': '632259bda6904810a4353d94',\n",
       "  'service': 'Catholic Community Services Southern',\n",
       "  'tags': ['Immigrant/Refugee Resources', 'Immigrant/Refugee Resources']},\n",
       " {'service_id': '632259bda6904810a4353d95',\n",
       "  'service': 'Derechos Humanos',\n",
       "  'tags': ['Immigrant/Refugee Resources', 'Immigrant/Refugee Resources']},\n",
       " {'service_id': '632259bda6904810a4353d9d',\n",
       "  'service': \"UA Worker's Rights Clinic\",\n",
       "  'tags': ['Immigrant/Refugee Resources', 'Immigrant/Refugee Resources']},\n",
       " {'service_id': '632259bda6904810a4353d96',\n",
       "  'service': 'Florence Immigrant & Refugee Rights Project',\n",
       "  'tags': ['Immigrant/Refugee Resources', 'Immigrant/Refugee Resources']},\n",
       " {'service_id': '632259bda6904810a4353d9c',\n",
       "  'service': 'UA Immigration Law Clinic',\n",
       "  'tags': ['Immigrant/Refugee Resources', 'Immigrant/Refugee Resources']},\n",
       " {'service_id': '632259bda6904810a4353d99',\n",
       "  'service': 'Lutheran Social Services of the Southwest',\n",
       "  'tags': ['Immigrant/Refugee Resources', 'Immigrant/Refugee Resources']},\n",
       " {'service_id': '632259bda6904810a4353d93',\n",
       "  'service': 'Catholic Community Services',\n",
       "  'tags': ['Immigrant/Refugee Resources', 'Immigrant/Refugee Resources']},\n",
       " {'service_id': '632259bda6904810a4353d9b',\n",
       "  'service': 'Refugee Mobile App ',\n",
       "  'tags': ['Immigrant/Refugee Resources', 'Immigrant/Refugee Resources']},\n",
       " {'service_id': '632259bda6904810a4353dce',\n",
       "  'service': 'AZ Copper Card',\n",
       "  'tags': ['Prescription Medication Assistance']},\n",
       " {'service_id': '632259bda6904810a4353dcf',\n",
       "  'service': 'Care Mark Card',\n",
       "  'tags': ['Prescription Medication Assistance']},\n",
       " {'service_id': '632259bda6904810a4353dd0',\n",
       "  'service': 'Discount ($4) RX Plans',\n",
       "  'tags': ['Prescription Medication Assistance']},\n",
       " {'service_id': '632259bda6904810a4353dd1',\n",
       "  'service': 'Medical Assistance Tool ',\n",
       "  'tags': ['Prescription Medication Assistance']}]"
      ]
     },
     "execution_count": 8,
     "metadata": {},
     "output_type": "execute_result"
    }
   ],
   "source": [
    "df.to_dict(orient='records')"
   ]
  },
  {
   "cell_type": "code",
   "execution_count": 9,
   "id": "bfa76590-947d-4121-8347-461ed6ef6cce",
   "metadata": {},
   "outputs": [],
   "source": [
    "with neo.driver.session() as session:\n",
    "    data = session.run(\"\"\"\n",
    "        MATCH (n:Services)-[:TAGGED]->(n1:Tags) \n",
    "        WHERE NOT (n1)-[:TAGGED]-(:Questions) \n",
    "        // Young Adult Resources is tied by Age Question\n",
    "              AND n1.name <> 'Young Adult Resources' \n",
    "        WITH n1.name as tags \n",
    "        RETURN DISTINCT tags as tag\n",
    "        ORDER BY tag;\n",
    "        \"\"\")\n",
    "    tag = data.values()"
   ]
  },
  {
   "cell_type": "code",
   "execution_count": 10,
   "id": "eb416924-aab1-4115-93ef-2b985cf89300",
   "metadata": {},
   "outputs": [
    {
     "data": {
      "text/plain": [
       "['Dental', 'Immigrant/Refugee Resources', 'Prescription Medication Assistance']"
      ]
     },
     "execution_count": 10,
     "metadata": {},
     "output_type": "execute_result"
    }
   ],
   "source": [
    "[elem for sublist in tag for elem in sublist]"
   ]
  },
  {
   "cell_type": "markdown",
   "id": "47e171b1-08a2-43e8-817b-4473d66881c8",
   "metadata": {},
   "source": [
    "# Get User Data"
   ]
  },
  {
   "cell_type": "code",
   "execution_count": 14,
   "id": "affa010d-5801-49b4-9320-e3ec77bf31c4",
   "metadata": {},
   "outputs": [
    {
     "name": "stdout",
     "output_type": "stream",
     "text": [
      "{'nodes': 21}\n"
     ]
    }
   ],
   "source": [
    "a = Analytics2NeoImporter(static_date=static_date)\n",
    "a.execute_date_node(finished=True)\n",
    "a.run()"
   ]
  },
  {
   "cell_type": "code",
   "execution_count": null,
   "id": "17081e3e-7b7e-4637-85be-2bc16bdde5fc",
   "metadata": {},
   "outputs": [],
   "source": []
  }
 ],
 "metadata": {
  "kernelspec": {
   "display_name": "Python 3 (ipykernel)",
   "language": "python",
   "name": "python3"
  },
  "language_info": {
   "codemirror_mode": {
    "name": "ipython",
    "version": 3
   },
   "file_extension": ".py",
   "mimetype": "text/x-python",
   "name": "python",
   "nbconvert_exporter": "python",
   "pygments_lexer": "ipython3",
   "version": "3.9.13"
  }
 },
 "nbformat": 4,
 "nbformat_minor": 5
}
