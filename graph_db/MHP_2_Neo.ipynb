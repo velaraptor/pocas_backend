{
 "cells": [
  {
   "cell_type": "code",
   "execution_count": 39,
   "id": "564b1cb6-c9ab-4387-abd5-bf3c7835e657",
   "metadata": {},
   "outputs": [],
   "source": [
    "from dotenv import load_dotenv\n",
    "load_dotenv()\n",
    "\n",
    "# TODO: Add Age Logic as Question and Tag\n",
    "# TODO: Add all the message of Services to Services Node\n",
    "\n",
    "from import_neo.base import BaseNeoImporter\n",
    "from import_neo.base_api import API2NeoImporter"
   ]
  },
  {
   "cell_type": "markdown",
   "id": "b311d97a-5884-4a9a-9339-3843932540bb",
   "metadata": {},
   "source": [
    "## Make sure to run Local Neo4j"
   ]
  },
  {
   "cell_type": "markdown",
   "id": "72b52fc7-5c19-4cc9-9a50-d837bfd79cc4",
   "metadata": {},
   "source": [
    "```shell\n",
    "docker-compose up -d --build\n",
    "```"
   ]
  },
  {
   "cell_type": "code",
   "execution_count": 40,
   "id": "c01f1a2d-2b18-41f5-8df2-9fc84366af6f",
   "metadata": {},
   "outputs": [],
   "source": [
    "# changes this to run DigitalOcean Spaces or MHP-API\n",
    "RUN_SPACES = False"
   ]
  },
  {
   "cell_type": "code",
   "execution_count": 41,
   "id": "20e9fdd1-b9a6-4792-8ee3-383ea70a3508",
   "metadata": {},
   "outputs": [],
   "source": [
    "neo = BaseNeoImporter(node_type='Services')\n",
    "with neo.driver.session() as session:\n",
    "    session.run(\"\"\"MATCH (n) DETACH DELETE n;\"\"\")"
   ]
  },
  {
   "cell_type": "markdown",
   "id": "9c83e7a5-d3ec-4046-9979-f33d50aca016",
   "metadata": {},
   "source": [
    "# Use Backup in Digital Ocean Spaces"
   ]
  },
  {
   "cell_type": "code",
   "execution_count": 42,
   "id": "b5cee614-20d7-4e7c-a051-e8b160642275",
   "metadata": {},
   "outputs": [],
   "source": [
    "if RUN_SPACES:\n",
    "    impo_services = BaseNeoImporter(node_type='Services')\n",
    "    print('Services Data \\n')\n",
    "    impo_services.run()\n",
    "    print(impo_services.data[0])\n",
    "    \n",
    "    \n",
    "    impo_q = BaseNeoImporter(node_type='Questions')\n",
    "    print('\\nQuestions Data \\n')\n",
    "    impo_q.run()\n",
    "    print(impo_q.data[0])"
   ]
  },
  {
   "cell_type": "markdown",
   "id": "ca3b7af3-c507-4ace-9de0-5c8e0a8c61eb",
   "metadata": {},
   "source": [
    "## Use API to Import to Neo4j"
   ]
  },
  {
   "cell_type": "code",
   "execution_count": 43,
   "id": "8bb0ecaa-1a54-4cf7-bc8f-5c12e955dee8",
   "metadata": {},
   "outputs": [
    {
     "name": "stdout",
     "output_type": "stream",
     "text": [
      "Using API: https://mhpportal.app\n",
      "Questions Data \n",
      "\n",
      "{'tag_nodes': 30, 'nodes': 28, 'rel': 106}\n",
      "{'id': 1, 'question': 'Is anyone scaring, threatening or hurting you or your children?', 'tags': ['Domestic Violence', 'Shelter', 'Family'], 'main_tag': 'Family', 'mongo_id': 1, 'name': 'Is anyone scaring, threatening or hurting you or your children?'}\n",
      "['Adolescent', 'Child Support', 'Children', 'Disability', 'Domestic Violence', 'Education', 'Elder', 'Employment', 'Family', 'Food Insecurity', 'Food and Nutrition', 'Health Insurance', 'Home', 'Housing', 'Identity', 'Income', 'Indigent', 'LGBTQ', 'Legal Assistance', 'Legal Services', 'Low Income', 'Mental Health', 'Pubic Benefits', 'Public Benefits', 'Shelter', 'Social Security', 'Special Education', 'Transportation', 'Women Health', 'Young Adult']\n",
      "\n",
      "Services Data \n",
      "\n",
      "{'tag_nodes': 31, 'nodes': 188, 'rel': 336}\n",
      "{'name': 'S. AZ Gender Alliance', 'phone': 5204777096, 'address': '2030 EAST BROADWAY', 'general_topic': 'LGBTQ', 'tags': ['LGBTQ'], 'city': 'Tuscon', 'state': 'AZ', 'lat': 32.2210873, 'lon': -110.94121, 'zip_code': 85719, 'web_site': 'http://www.sagatucson.org/', 'days': None, 'hours': None, 'id': '632259bda6904810a4353d29', 'mongo_id': '632259bda6904810a4353d29', 'main_tag': 'LGBTQ'}\n",
      "['Addiction Resources', 'Adolescent', 'Child Support', 'Dental', 'Disability', 'Domestic Violence', 'Education', 'Elder', 'Employment', 'Family', 'Food and Nutrition', 'Health Care Resources', 'Health Insurance', 'Housing', 'Immigrant/Refugee Resources', 'Indigent', 'LGBTQ', 'Legal Assistance', 'Legal Services', 'Low Income', 'Mental Health', 'Prescription Medication Assistance', 'Public Benefits', 'Shelter', 'Social Security', 'Special Education', 'Substance Abuse', 'Transportation', 'Utility Assistance', 'Women Health', 'Young Adult Resources']\n"
     ]
    }
   ],
   "source": [
    "if not RUN_SPACES:\n",
    "    # note mhp docker services must be running locally which will be a port 80\n",
    "    # if not use production server: https://mhpportal.app\n",
    "    api_path = 'https://mhpportal.app'\n",
    "    print(f'Using API: {api_path}')\n",
    "    q = API2NeoImporter(node_type='Questions', api_path=api_path)\n",
    "    print('Questions Data \\n')\n",
    "    q.run()\n",
    "    print(q.data[0])\n",
    "    print(q.tags)\n",
    "    \n",
    "    s = API2NeoImporter(node_type='Services', api_path=api_path)\n",
    "    print('\\nServices Data \\n')\n",
    "    s.run()\n",
    "    print(s.data[0])\n",
    "    print(s.tags)\n"
   ]
  },
  {
   "cell_type": "code",
   "execution_count": 18,
   "id": "eb763a89-02cf-4c3f-bf34-a8c2b4a44a48",
   "metadata": {},
   "outputs": [
    {
     "ename": "AssertionError",
     "evalue": "",
     "output_type": "error",
     "traceback": [
      "\u001b[0;31m---------------------------------------------------------------------------\u001b[0m",
      "\u001b[0;31mAssertionError\u001b[0m                            Traceback (most recent call last)",
      "Cell \u001b[0;32mIn[18], line 2\u001b[0m\n\u001b[1;32m      1\u001b[0m \u001b[38;5;66;03m# QA wrong node type\u001b[39;00m\n\u001b[0;32m----> 2\u001b[0m impo_services \u001b[38;5;241m=\u001b[39m \u001b[43mBaseNeoImporter\u001b[49m\u001b[43m(\u001b[49m\u001b[43mnode_type\u001b[49m\u001b[38;5;241;43m=\u001b[39;49m\u001b[38;5;124;43m'\u001b[39;49m\u001b[38;5;124;43mService\u001b[39;49m\u001b[38;5;124;43m'\u001b[39;49m\u001b[43m)\u001b[49m\n\u001b[1;32m      3\u001b[0m impo_services \u001b[38;5;241m=\u001b[39m BaseNeoImporter(node_type\u001b[38;5;241m=\u001b[39m\u001b[38;5;124m'\u001b[39m\u001b[38;5;124mques\u001b[39m\u001b[38;5;124m'\u001b[39m)\n",
      "File \u001b[0;32m~/Projects/personal/pocas_backend/graph_db/import_neo/base.py:23\u001b[0m, in \u001b[0;36mBaseNeoImporter.__init__\u001b[0;34m(self, node_type)\u001b[0m\n\u001b[1;32m     21\u001b[0m \u001b[38;5;28mself\u001b[39m\u001b[38;5;241m.\u001b[39mdata \u001b[38;5;241m=\u001b[39m []\n\u001b[1;32m     22\u001b[0m \u001b[38;5;28mself\u001b[39m\u001b[38;5;241m.\u001b[39mtags \u001b[38;5;241m=\u001b[39m []\n\u001b[0;32m---> 23\u001b[0m \u001b[38;5;28;01mif\u001b[39;00m node_type \u001b[38;5;129;01mnot\u001b[39;00m \u001b[38;5;129;01min\u001b[39;00m [\u001b[38;5;124m'\u001b[39m\u001b[38;5;124mServices\u001b[39m\u001b[38;5;124m'\u001b[39m, \u001b[38;5;124m'\u001b[39m\u001b[38;5;124mQuestions\u001b[39m\u001b[38;5;124m'\u001b[39m]:\n\u001b[1;32m     24\u001b[0m     \u001b[38;5;28;01mraise\u001b[39;00m \u001b[38;5;167;01mValueError\u001b[39;00m(\u001b[38;5;124m'\u001b[39m\u001b[38;5;124mValue of node_type should be either: Services or Questions!\u001b[39m\u001b[38;5;124m'\u001b[39m)\n\u001b[1;32m     25\u001b[0m \u001b[38;5;28mself\u001b[39m\u001b[38;5;241m.\u001b[39mnode_type \u001b[38;5;241m=\u001b[39m node_type\n",
      "\u001b[0;31mAssertionError\u001b[0m: "
     ]
    }
   ],
   "source": [
    "# QA wrong node type\n",
    "impo_services = BaseNeoImporter(node_type='Service')\n"
   ]
  },
  {
   "cell_type": "markdown",
   "id": "aec97d25-12e0-47b9-a6f6-4fc6a4b840ba",
   "metadata": {},
   "source": [
    "# Cypher Queries\n",
    "<img src=\"static/graph.png\">\n",
    "\n",
    "* https://neo4j.com/docs/graph-data-science/current/algorithms/node-similarity/\n",
    "* https://neo4j.com/docs/graph-data-science/current/algorithms/knn/\n",
    "* https://neo4j.com/docs/graph-data-science/current/algorithms/bfs/\n",
    "* https://neo4j.com/docs/graph-data-science/current/machine-learning/linkprediction-pipelines/link-prediction/\n",
    "\n",
    "## Show all relationships \n",
    "<hr>\n",
    "\n",
    "```cypher\n",
    "MATCH p=()-[r:TAGGED]-() RETURN p;\n",
    "```"
   ]
  },
  {
   "cell_type": "markdown",
   "id": "009f2322-fb73-427c-989a-f9f19936f28a",
   "metadata": {},
   "source": [
    "## Get Node Similiarties\n",
    "<hr>\n",
    "\n",
    "```cypher\n",
    "CALL gds.graph.project(\n",
    "    'myGraph',\n",
    "    ['Tags', 'Services', 'Questions'],\n",
    "    {\n",
    "        TAGGED: {\n",
    "        }\n",
    "    }\n",
    ");\n",
    "```\n",
    "\n",
    "\n",
    "```cypher\n",
    "CALL gds.nodeSimilarity.write('myGraph', {\n",
    "    writeRelationshipType: 'SIMILAR',\n",
    "    writeProperty: 'score'\n",
    "})\n",
    "YIELD nodesCompared, relationshipsWritten;\n",
    "```\n",
    "\n",
    "\n",
    "```cypher\n",
    "MATCH p=()-[r:SIMILAR]-() WHERE r.score > 0.75 RETURN p;\n",
    "```"
   ]
  },
  {
   "cell_type": "markdown",
   "id": "bf297f39-93d3-42be-8a53-35da319be9d2",
   "metadata": {},
   "source": [
    "## Link Prediction\n",
    "<hr>\n",
    "\n",
    "```cypher\n",
    "\n",
    "CALL gds.beta.pipeline.linkPrediction.create('pipe');\n",
    "\n",
    "                                             \n",
    "CALL gds.beta.pipeline.linkPrediction.configureSplit('pipe', {\n",
    "  testFraction: 0.25,\n",
    "  trainFraction: 0.6,\n",
    "  validationFolds: 3\n",
    "})\n",
    "YIELD splitConfig;\n",
    "\n",
    "\n",
    "CALL gds.alpha.pipeline.linkPrediction.addMLP('pipe',\n",
    "{hiddenLayerSizes: [4, 2], penalty: 1, patience: 2})\n",
    "YIELD parameterSpace;\n",
    "\n",
    "\n",
    "CALL gds.alpha.pipeline.linkPrediction.configureAutoTuning('pipe', {\n",
    "  maxTrials: 2\n",
    "}) YIELD autoTuningConfig;\n",
    "\n",
    "\n",
    "\n",
    "CALL gds.graph.project(\n",
    "  'testGraph',\n",
    "  {\n",
    "    Services: {\n",
    "      properties: ['created']\n",
    "    }\n",
    "  },\n",
    "  {\n",
    "    TAGGED: {\n",
    "      orientation: 'UNDIRECTED'\n",
    "    }\n",
    "  }\n",
    ");\n",
    "\n",
    "\n",
    "CALL gds.beta.pipeline.linkPrediction.train('testGraph', {\n",
    "  pipeline: 'pipe',\n",
    "  modelName: 'lp-pipeline-model',\n",
    "  metrics: ['AUCPR', 'OUT_OF_BAG_ERROR'],\n",
    "  targetRelationshipType: 'TAGGED',\n",
    "  randomSeed: 73\n",
    "}) YIELD modelInfo, modelSelectionStats\n",
    "RETURN\n",
    "  modelInfo.bestParameters AS winningModel,\n",
    "  modelInfo.metrics.AUCPR.train.avg AS avgTrainScore,\n",
    "  modelInfo.metrics.AUCPR.outerTrain AS outerTrainScore,\n",
    "  modelInfo.metrics.AUCPR.test AS testScore,\n",
    "  [cand IN modelSelectionStats.modelCandidates | cand.metrics.AUCPR.validation.avg] AS validationScores;\n",
    "    \n",
    "    \n",
    "CALL gds.beta.pipeline.linkPrediction.predict.stream('testGraph', {\n",
    "  modelName: 'lp-pipeline-model',\n",
    "  topN: 5,\n",
    "  threshold: 0.5\n",
    "})\n",
    " YIELD node1, node2, probability\n",
    " RETURN gds.util.asNode(node1).name AS person1, gds.util.asNode(node2).name AS person2, probability\n",
    " ORDER BY probability DESC, person1;\n",
    "```"
   ]
  },
  {
   "cell_type": "markdown",
   "id": "0a98b225-334c-473d-98a4-41d980176a09",
   "metadata": {},
   "source": [
    "## Get Services not tied to Question\n",
    "<hr>\n",
    "\n",
    "```cypher\n",
    "MATCH (n:Services)-[:TAGGED]->(n1:Tags) \n",
    "WHERE NOT (n1)-[:TAGGED]-(:Questions) \n",
    "// Young Adult Resources is tied by Age Question\n",
    "      AND n1.name <> 'Young Adult Resources' \n",
    "RETURN n.id as service_id, n.name as service, COLLECT(n1.name) as tags \n",
    "ORDER BY tags;\n",
    "```"
   ]
  },
  {
   "cell_type": "code",
   "execution_count": 48,
   "id": "5820ee7f-f72b-4559-b832-119edf499113",
   "metadata": {},
   "outputs": [],
   "source": [
    "with neo.driver.session() as session:\n",
    "    data = session.run(\"\"\"MATCH (n:Services)-[:TAGGED]->(n1:Tags) \n",
    "            WHERE NOT (n1)-[:TAGGED]-(:Questions) \n",
    "            // Young Adult Resources is tied by Age Question\n",
    "                  AND n1.name <> 'Young Adult Resources' \n",
    "            RETURN n.id as service_id, n.name as service, COLLECT(n1.name) as tags \n",
    "            ORDER BY tags\"\"\")\n",
    "    df = data.to_df()"
   ]
  },
  {
   "cell_type": "code",
   "execution_count": 49,
   "id": "6eebfe17-ad42-4a2b-859f-7545402346d4",
   "metadata": {},
   "outputs": [
    {
     "data": {
      "text/html": [
       "<div>\n",
       "<style scoped>\n",
       "    .dataframe tbody tr th:only-of-type {\n",
       "        vertical-align: middle;\n",
       "    }\n",
       "\n",
       "    .dataframe tbody tr th {\n",
       "        vertical-align: top;\n",
       "    }\n",
       "\n",
       "    .dataframe thead th {\n",
       "        text-align: right;\n",
       "    }\n",
       "</style>\n",
       "<table border=\"1\" class=\"dataframe\">\n",
       "  <thead>\n",
       "    <tr style=\"text-align: right;\">\n",
       "      <th></th>\n",
       "      <th>service_id</th>\n",
       "      <th>service</th>\n",
       "      <th>tags</th>\n",
       "    </tr>\n",
       "  </thead>\n",
       "  <tbody>\n",
       "    <tr>\n",
       "      <th>0</th>\n",
       "      <td>632259bda6904810a4353dc2</td>\n",
       "      <td>COPE Community Services, Inc.</td>\n",
       "      <td>[Addiction Resources]</td>\n",
       "    </tr>\n",
       "    <tr>\n",
       "      <th>1</th>\n",
       "      <td>632259bda6904810a4353dc1</td>\n",
       "      <td>COPE Community Services</td>\n",
       "      <td>[Addiction Resources]</td>\n",
       "    </tr>\n",
       "    <tr>\n",
       "      <th>2</th>\n",
       "      <td>632259bda6904810a4353dc0</td>\n",
       "      <td>Cope Behavioral Services</td>\n",
       "      <td>[Addiction Resources]</td>\n",
       "    </tr>\n",
       "    <tr>\n",
       "      <th>3</th>\n",
       "      <td>632259bda6904810a4353dbf</td>\n",
       "      <td>COPE Community Services</td>\n",
       "      <td>[Addiction Resources]</td>\n",
       "    </tr>\n",
       "    <tr>\n",
       "      <th>4</th>\n",
       "      <td>632259bda6904810a4353dbe</td>\n",
       "      <td>COPE Community Services, Inc.</td>\n",
       "      <td>[Addiction Resources]</td>\n",
       "    </tr>\n",
       "    <tr>\n",
       "      <th>...</th>\n",
       "      <td>...</td>\n",
       "      <td>...</td>\n",
       "      <td>...</td>\n",
       "    </tr>\n",
       "    <tr>\n",
       "      <th>60</th>\n",
       "      <td>632259bda6904810a4353dce</td>\n",
       "      <td>AZ Copper Card</td>\n",
       "      <td>[Prescription Medication Assistance]</td>\n",
       "    </tr>\n",
       "    <tr>\n",
       "      <th>61</th>\n",
       "      <td>632259bda6904810a4353de4</td>\n",
       "      <td>TEP - Lifeline Discount Program</td>\n",
       "      <td>[Utility Assistance]</td>\n",
       "    </tr>\n",
       "    <tr>\n",
       "      <th>62</th>\n",
       "      <td>632259bda6904810a4353de3</td>\n",
       "      <td>Salvation Army Utilities/Rent</td>\n",
       "      <td>[Utility Assistance]</td>\n",
       "    </tr>\n",
       "    <tr>\n",
       "      <th>63</th>\n",
       "      <td>632259bda6904810a4353de2</td>\n",
       "      <td>Project PPEP</td>\n",
       "      <td>[Utility Assistance]</td>\n",
       "    </tr>\n",
       "    <tr>\n",
       "      <th>64</th>\n",
       "      <td>632259bda6904810a4353de1</td>\n",
       "      <td>Pima County Community Action Agency</td>\n",
       "      <td>[Utility Assistance]</td>\n",
       "    </tr>\n",
       "  </tbody>\n",
       "</table>\n",
       "<p>65 rows × 3 columns</p>\n",
       "</div>"
      ],
      "text/plain": [
       "                  service_id                              service  \\\n",
       "0   632259bda6904810a4353dc2        COPE Community Services, Inc.   \n",
       "1   632259bda6904810a4353dc1              COPE Community Services   \n",
       "2   632259bda6904810a4353dc0             Cope Behavioral Services   \n",
       "3   632259bda6904810a4353dbf              COPE Community Services   \n",
       "4   632259bda6904810a4353dbe        COPE Community Services, Inc.   \n",
       "..                       ...                                  ...   \n",
       "60  632259bda6904810a4353dce                       AZ Copper Card   \n",
       "61  632259bda6904810a4353de4      TEP - Lifeline Discount Program   \n",
       "62  632259bda6904810a4353de3        Salvation Army Utilities/Rent   \n",
       "63  632259bda6904810a4353de2                         Project PPEP   \n",
       "64  632259bda6904810a4353de1  Pima County Community Action Agency   \n",
       "\n",
       "                                    tags  \n",
       "0                  [Addiction Resources]  \n",
       "1                  [Addiction Resources]  \n",
       "2                  [Addiction Resources]  \n",
       "3                  [Addiction Resources]  \n",
       "4                  [Addiction Resources]  \n",
       "..                                   ...  \n",
       "60  [Prescription Medication Assistance]  \n",
       "61                  [Utility Assistance]  \n",
       "62                  [Utility Assistance]  \n",
       "63                  [Utility Assistance]  \n",
       "64                  [Utility Assistance]  \n",
       "\n",
       "[65 rows x 3 columns]"
      ]
     },
     "execution_count": 49,
     "metadata": {},
     "output_type": "execute_result"
    }
   ],
   "source": [
    "df"
   ]
  },
  {
   "cell_type": "markdown",
   "id": "47e171b1-08a2-43e8-817b-4473d66881c8",
   "metadata": {},
   "source": [
    "# Get User Data"
   ]
  },
  {
   "cell_type": "code",
   "execution_count": 53,
   "id": "cbf300e8-9679-4695-af56-52a78a23f5d5",
   "metadata": {},
   "outputs": [],
   "source": [
    "zip_codes_url = 'https://mhpportal.app/api/v1/platform/zip_codes'\n",
    "data_zip_url = 'https://mhpportal.app/api/v1/platform/data/%s'\n",
    "\n",
    "\n",
    "import requests"
   ]
  },
  {
   "cell_type": "code",
   "execution_count": 55,
   "id": "09c0a452-daab-4a69-9770-3d132a8aefc4",
   "metadata": {},
   "outputs": [
    {
     "data": {
      "text/plain": [
       "[{'count': 6, 'id': '85719'},\n",
       " {'count': 5, 'id': '78724'},\n",
       " {'count': 2, 'id': '85742'},\n",
       " {'count': 5, 'id': '85705'},\n",
       " {'count': 1, 'id': '85732'}]"
      ]
     },
     "execution_count": 55,
     "metadata": {},
     "output_type": "execute_result"
    }
   ],
   "source": [
    "resp = requests.get(zip_codes_url)\n",
    "z_c = resp.json()\n",
    "z_c"
   ]
  },
  {
   "cell_type": "code",
   "execution_count": 60,
   "id": "666be5d0-ec2a-4037-a868-148b62fc6fec",
   "metadata": {},
   "outputs": [],
   "source": [
    "json_data = []\n",
    "for z in z_c:\n",
    "    resp = requests.get(data_zip_url % z['id'])\n",
    "    json_data = json_data + resp.json()"
   ]
  },
  {
   "cell_type": "code",
   "execution_count": 62,
   "id": "acbef505-d255-4bca-acdc-dcff2defa3c9",
   "metadata": {},
   "outputs": [
    {
     "data": {
      "text/plain": [
       "{'dob': 1992,\n",
       " 'zip_code': 85719,\n",
       " 'answers': [1,\n",
       "  1,\n",
       "  0,\n",
       "  1,\n",
       "  0,\n",
       "  0,\n",
       "  0,\n",
       "  0,\n",
       "  0,\n",
       "  1,\n",
       "  0,\n",
       "  0,\n",
       "  0,\n",
       "  0,\n",
       "  0,\n",
       "  0,\n",
       "  0,\n",
       "  0,\n",
       "  0,\n",
       "  0,\n",
       "  0,\n",
       "  0,\n",
       "  0,\n",
       "  0,\n",
       "  0,\n",
       "  0,\n",
       "  0,\n",
       "  0],\n",
       " 'top_services': ['632259bda6904810a4353d45',\n",
       "  '632259bda6904810a4353d50',\n",
       "  '632259bda6904810a4353d33',\n",
       "  '632259bda6904810a4353d36',\n",
       "  '632259bda6904810a4353d3a',\n",
       "  '632259bda6904810a4353d35',\n",
       "  '632259bda6904810a4353d38',\n",
       "  '632259bda6904810a4353d37',\n",
       "  '632259bda6904810a4353d39',\n",
       "  '632259bda6904810a4353d4b',\n",
       "  '632259bda6904810a4353d69',\n",
       "  '632259bda6904810a4353d6f',\n",
       "  '632259bda6904810a4353d62',\n",
       "  '632259bda6904810a4353d2b',\n",
       "  '632259bda6904810a4353d4d'],\n",
       " 'time': '2023-01-09T05:00:54.414000',\n",
       " 'name': '60ade32c0c894b5ba1f1e4c17514db87',\n",
       " 'id': '63bb9f86721edb59a9f3d0a5'}"
      ]
     },
     "execution_count": 62,
     "metadata": {},
     "output_type": "execute_result"
    }
   ],
   "source": [
    "json_data[0]"
   ]
  },
  {
   "cell_type": "code",
   "execution_count": null,
   "id": "affa010d-5801-49b4-9320-e3ec77bf31c4",
   "metadata": {},
   "outputs": [],
   "source": []
  }
 ],
 "metadata": {
  "kernelspec": {
   "display_name": "Python 3 (ipykernel)",
   "language": "python",
   "name": "python3"
  },
  "language_info": {
   "codemirror_mode": {
    "name": "ipython",
    "version": 3
   },
   "file_extension": ".py",
   "mimetype": "text/x-python",
   "name": "python",
   "nbconvert_exporter": "python",
   "pygments_lexer": "ipython3",
   "version": "3.9.13"
  }
 },
 "nbformat": 4,
 "nbformat_minor": 5
}
