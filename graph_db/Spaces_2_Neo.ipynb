{
 "cells": [
  {
   "cell_type": "code",
   "execution_count": 35,
   "id": "564b1cb6-c9ab-4387-abd5-bf3c7835e657",
   "metadata": {},
   "outputs": [],
   "source": [
    "from dotenv import load_dotenv\n",
    "load_dotenv()\n",
    "\n",
    "\n",
    "from import_neo.base import BaseNeoImporter\n",
    "from import_neo.base_api import API2NeoImporter"
   ]
  },
  {
   "cell_type": "markdown",
   "id": "b311d97a-5884-4a9a-9339-3843932540bb",
   "metadata": {},
   "source": [
    "## Make sure to run Local Neo4j"
   ]
  },
  {
   "cell_type": "markdown",
   "id": "72b52fc7-5c19-4cc9-9a50-d837bfd79cc4",
   "metadata": {},
   "source": [
    "```shell\n",
    "docker-compose up -d --build\n",
    "```"
   ]
  },
  {
   "cell_type": "code",
   "execution_count": 36,
   "id": "c01f1a2d-2b18-41f5-8df2-9fc84366af6f",
   "metadata": {},
   "outputs": [],
   "source": [
    "# changes this to run DigitalOcean Spaces or MHP-API\n",
    "RUN_SPACES=False"
   ]
  },
  {
   "cell_type": "code",
   "execution_count": 37,
   "id": "20e9fdd1-b9a6-4792-8ee3-383ea70a3508",
   "metadata": {},
   "outputs": [],
   "source": [
    "neo = BaseNeoImporter(node_type='Services')\n",
    "with neo.driver.session() as session:\n",
    "    session.run(\"\"\"MATCH (n) DETACH DELETE n;\"\"\")"
   ]
  },
  {
   "cell_type": "markdown",
   "id": "9c83e7a5-d3ec-4046-9979-f33d50aca016",
   "metadata": {},
   "source": [
    "# Use Backup in Digital Ocean Spaces"
   ]
  },
  {
   "cell_type": "code",
   "execution_count": 32,
   "id": "b5cee614-20d7-4e7c-a051-e8b160642275",
   "metadata": {},
   "outputs": [],
   "source": [
    "if RUN_SPACES:\n",
    "    impo_services = BaseNeoImporter(node_type='Services')\n",
    "    print('Services Data \\n')\n",
    "    impo_services.run()\n",
    "    print(impo_services.data[0])\n",
    "    \n",
    "    \n",
    "    impo_q = BaseNeoImporter(node_type='Questions')\n",
    "    print('\\nQuestions Data \\n')\n",
    "    impo_q.run()\n",
    "    print(impo_q.data[0])"
   ]
  },
  {
   "cell_type": "markdown",
   "id": "ca3b7af3-c507-4ace-9de0-5c8e0a8c61eb",
   "metadata": {},
   "source": [
    "## Use API to Import to Neo4j"
   ]
  },
  {
   "cell_type": "code",
   "execution_count": 38,
   "id": "8bb0ecaa-1a54-4cf7-bc8f-5c12e955dee8",
   "metadata": {},
   "outputs": [
    {
     "name": "stdout",
     "output_type": "stream",
     "text": [
      "Using API: https://mhpportal.app\n",
      "Questions Data \n",
      "\n",
      "{'tag_nodes': 30, 'nodes': 28, 'rel': 106}\n",
      "{'id': 1, 'question': 'Is anyone scaring, threatening or hurting you or your children?', 'tags': ['Domestic Violence', 'Shelter', 'Family'], 'main_tag': 'Family', 'mongo_id': 1, 'name': 'Is anyone scaring, threatening or hurting you or your children?'}\n",
      "['Adolescent', 'Child Support', 'Children', 'Disability', 'Domestic Violence', 'Education', 'Elder', 'Employment', 'Family', 'Food Insecurity', 'Food and Nutrition', 'Health Insurance', 'Home', 'Housing', 'Identity', 'Income', 'Indigent', 'LGBTQ', 'Legal Assistance', 'Legal Services', 'Low Income', 'Mental Health', 'Pubic Benefits', 'Public Benefits', 'Shelter', 'Social Security', 'Special Education', 'Transportation', 'Women Health', 'Young Adult']\n",
      "\n",
      "Services Data \n",
      "\n",
      "{'tag_nodes': 31, 'nodes': 188, 'rel': 335}\n",
      "{'name': 'S. AZ Gender Alliance', 'phone': 5204777096, 'address': '2030 EAST BROADWAY', 'general_topic': 'LGBTQ', 'tags': ['LGBTQ'], 'city': 'Tuscon', 'state': 'AZ', 'lat': 32.2210873, 'lon': -110.94121, 'zip_code': 85719, 'web_site': 'http://www.sagatucson.org/', 'days': None, 'hours': None, 'id': '632259bda6904810a4353d29', 'mongo_id': '632259bda6904810a4353d29', 'main_tag': 'LGBTQ'}\n",
      "['Addiction Resources', 'Adolescent', 'Child Support', 'Dental', 'Disability', 'Domestic Violence', 'Education', 'Elder', 'Employment', 'Family', 'Food and Nutrition', 'Health Care Resources', 'Health Insurance', 'Housing', 'Immigrant/Refugee Resources', 'Indigent', 'LGBTQ', 'Legal Assistance', 'Legal Services', 'Low Income', 'Mental Health', 'Prescription Medication Assistance', 'Public Benefits', 'Shelter', 'Social Security', 'Special Education', 'Substance Abuse', 'Transportation', 'Utility Assistance', 'Women Health', 'Young Adult Resources']\n"
     ]
    }
   ],
   "source": [
    "if not RUN_SPACES:\n",
    "    # note mhp docker services must be running locally which will be a port 80\n",
    "    # if not use production server: https://mhpportal.app\n",
    "    api_path = 'https://mhpportal.app'\n",
    "    print(f'Using API: {api_path}')\n",
    "    q = API2NeoImporter(node_type='Questions', api_path=api_path)\n",
    "    print('Questions Data \\n')\n",
    "    q.run()\n",
    "    print(q.data[0])\n",
    "    print(q.tags)\n",
    "    \n",
    "    s = API2NeoImporter(node_type='Services', api_path=api_path)\n",
    "    print('\\nServices Data \\n')\n",
    "    s.run()\n",
    "    print(s.data[0])\n",
    "    print(s.tags)\n"
   ]
  },
  {
   "cell_type": "code",
   "execution_count": 18,
   "id": "eb763a89-02cf-4c3f-bf34-a8c2b4a44a48",
   "metadata": {},
   "outputs": [
    {
     "ename": "AssertionError",
     "evalue": "",
     "output_type": "error",
     "traceback": [
      "\u001b[0;31m---------------------------------------------------------------------------\u001b[0m",
      "\u001b[0;31mAssertionError\u001b[0m                            Traceback (most recent call last)",
      "Cell \u001b[0;32mIn[18], line 2\u001b[0m\n\u001b[1;32m      1\u001b[0m \u001b[38;5;66;03m# QA wrong node type\u001b[39;00m\n\u001b[0;32m----> 2\u001b[0m impo_services \u001b[38;5;241m=\u001b[39m \u001b[43mBaseNeoImporter\u001b[49m\u001b[43m(\u001b[49m\u001b[43mnode_type\u001b[49m\u001b[38;5;241;43m=\u001b[39;49m\u001b[38;5;124;43m'\u001b[39;49m\u001b[38;5;124;43mService\u001b[39;49m\u001b[38;5;124;43m'\u001b[39;49m\u001b[43m)\u001b[49m\n\u001b[1;32m      3\u001b[0m impo_services \u001b[38;5;241m=\u001b[39m BaseNeoImporter(node_type\u001b[38;5;241m=\u001b[39m\u001b[38;5;124m'\u001b[39m\u001b[38;5;124mques\u001b[39m\u001b[38;5;124m'\u001b[39m)\n",
      "File \u001b[0;32m~/Projects/personal/pocas_backend/graph_db/import_neo/base.py:23\u001b[0m, in \u001b[0;36mBaseNeoImporter.__init__\u001b[0;34m(self, node_type)\u001b[0m\n\u001b[1;32m     21\u001b[0m \u001b[38;5;28mself\u001b[39m\u001b[38;5;241m.\u001b[39mdata \u001b[38;5;241m=\u001b[39m []\n\u001b[1;32m     22\u001b[0m \u001b[38;5;28mself\u001b[39m\u001b[38;5;241m.\u001b[39mtags \u001b[38;5;241m=\u001b[39m []\n\u001b[0;32m---> 23\u001b[0m \u001b[38;5;28;01mif\u001b[39;00m node_type \u001b[38;5;129;01mnot\u001b[39;00m \u001b[38;5;129;01min\u001b[39;00m [\u001b[38;5;124m'\u001b[39m\u001b[38;5;124mServices\u001b[39m\u001b[38;5;124m'\u001b[39m, \u001b[38;5;124m'\u001b[39m\u001b[38;5;124mQuestions\u001b[39m\u001b[38;5;124m'\u001b[39m]:\n\u001b[1;32m     24\u001b[0m     \u001b[38;5;28;01mraise\u001b[39;00m \u001b[38;5;167;01mValueError\u001b[39;00m(\u001b[38;5;124m'\u001b[39m\u001b[38;5;124mValue of node_type should be either: Services or Questions!\u001b[39m\u001b[38;5;124m'\u001b[39m)\n\u001b[1;32m     25\u001b[0m \u001b[38;5;28mself\u001b[39m\u001b[38;5;241m.\u001b[39mnode_type \u001b[38;5;241m=\u001b[39m node_type\n",
      "\u001b[0;31mAssertionError\u001b[0m: "
     ]
    }
   ],
   "source": [
    "# QA wrong node type\n",
    "impo_services = BaseNeoImporter(node_type='Service')\n"
   ]
  },
  {
   "cell_type": "markdown",
   "id": "aec97d25-12e0-47b9-a6f6-4fc6a4b840ba",
   "metadata": {},
   "source": [
    "# Cypher Queries\n",
    "<img src=\"static/graph.png\">\n",
    "\n",
    "* https://neo4j.com/docs/graph-data-science/current/algorithms/node-similarity/\n",
    "* https://neo4j.com/docs/graph-data-science/current/algorithms/knn/\n",
    "* https://neo4j.com/docs/graph-data-science/current/algorithms/bfs/\n",
    "* https://neo4j.com/docs/graph-data-science/current/machine-learning/linkprediction-pipelines/link-prediction/\n",
    "\n",
    "## Show all relationships \n",
    "<hr>\n",
    "\n",
    "```cypher\n",
    "MATCH p=()-[r:TAGGED]-() RETURN p;\n",
    "```"
   ]
  },
  {
   "cell_type": "markdown",
   "id": "009f2322-fb73-427c-989a-f9f19936f28a",
   "metadata": {},
   "source": [
    "## Get Node Similiarties\n",
    "<hr>\n",
    "\n",
    "```cypher\n",
    "CALL gds.graph.project(\n",
    "    'myGraph',\n",
    "    ['Tags', 'Services', 'Questions'],\n",
    "    {\n",
    "        TAGGED: {\n",
    "        }\n",
    "    }\n",
    ");\n",
    "```\n",
    "\n",
    "\n",
    "```cypher\n",
    "CALL gds.nodeSimilarity.write('myGraph', {\n",
    "    writeRelationshipType: 'SIMILAR',\n",
    "    writeProperty: 'score'\n",
    "})\n",
    "YIELD nodesCompared, relationshipsWritten;\n",
    "```\n",
    "\n",
    "\n",
    "```cypher\n",
    "MATCH p=()-[r:SIMILAR]-() WHERE r.score > 0.75 RETURN p;\n",
    "```"
   ]
  },
  {
   "cell_type": "markdown",
   "id": "bf297f39-93d3-42be-8a53-35da319be9d2",
   "metadata": {},
   "source": [
    "## Link Prediction\n",
    "<hr>\n",
    "\n",
    "```cypher\n",
    "\n",
    "CALL gds.beta.pipeline.linkPrediction.create('pipe');\n",
    "\n",
    "                                             \n",
    "CALL gds.beta.pipeline.linkPrediction.configureSplit('pipe', {\n",
    "  testFraction: 0.25,\n",
    "  trainFraction: 0.6,\n",
    "  validationFolds: 3\n",
    "})\n",
    "YIELD splitConfig;\n",
    "\n",
    "\n",
    "CALL gds.alpha.pipeline.linkPrediction.addMLP('pipe',\n",
    "{hiddenLayerSizes: [4, 2], penalty: 1, patience: 2})\n",
    "YIELD parameterSpace;\n",
    "\n",
    "\n",
    "CALL gds.alpha.pipeline.linkPrediction.configureAutoTuning('pipe', {\n",
    "  maxTrials: 2\n",
    "}) YIELD autoTuningConfig;\n",
    "\n",
    "\n",
    "\n",
    "CALL gds.graph.project(\n",
    "  'testGraph',\n",
    "  {\n",
    "    Services: {\n",
    "      properties: ['created']\n",
    "    }\n",
    "  },\n",
    "  {\n",
    "    TAGGED: {\n",
    "      orientation: 'UNDIRECTED'\n",
    "    }\n",
    "  }\n",
    ");\n",
    "\n",
    "\n",
    "CALL gds.beta.pipeline.linkPrediction.train('testGraph', {\n",
    "  pipeline: 'pipe',\n",
    "  modelName: 'lp-pipeline-model',\n",
    "  metrics: ['AUCPR', 'OUT_OF_BAG_ERROR'],\n",
    "  targetRelationshipType: 'TAGGED',\n",
    "  randomSeed: 73\n",
    "}) YIELD modelInfo, modelSelectionStats\n",
    "RETURN\n",
    "  modelInfo.bestParameters AS winningModel,\n",
    "  modelInfo.metrics.AUCPR.train.avg AS avgTrainScore,\n",
    "  modelInfo.metrics.AUCPR.outerTrain AS outerTrainScore,\n",
    "  modelInfo.metrics.AUCPR.test AS testScore,\n",
    "  [cand IN modelSelectionStats.modelCandidates | cand.metrics.AUCPR.validation.avg] AS validationScores;\n",
    "    \n",
    "    \n",
    "CALL gds.beta.pipeline.linkPrediction.predict.stream('testGraph', {\n",
    "  modelName: 'lp-pipeline-model',\n",
    "  topN: 5,\n",
    "  threshold: 0.5\n",
    "})\n",
    " YIELD node1, node2, probability\n",
    " RETURN gds.util.asNode(node1).name AS person1, gds.util.asNode(node2).name AS person2, probability\n",
    " ORDER BY probability DESC, person1;\n",
    "```"
   ]
  },
  {
   "cell_type": "code",
   "execution_count": null,
   "id": "8aecf6a3-319e-4fbd-9b3c-334a66d3f338",
   "metadata": {},
   "outputs": [],
   "source": []
  }
 ],
 "metadata": {
  "kernelspec": {
   "display_name": "Python 3 (ipykernel)",
   "language": "python",
   "name": "python3"
  },
  "language_info": {
   "codemirror_mode": {
    "name": "ipython",
    "version": 3
   },
   "file_extension": ".py",
   "mimetype": "text/x-python",
   "name": "python",
   "nbconvert_exporter": "python",
   "pygments_lexer": "ipython3",
   "version": "3.9.13"
  }
 },
 "nbformat": 4,
 "nbformat_minor": 5
}
