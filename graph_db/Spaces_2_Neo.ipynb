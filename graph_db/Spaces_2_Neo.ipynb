{
 "cells": [
  {
   "cell_type": "code",
   "execution_count": 1,
   "id": "564b1cb6-c9ab-4387-abd5-bf3c7835e657",
   "metadata": {},
   "outputs": [],
   "source": [
    "from dotenv import load_dotenv\n",
    "load_dotenv()\n",
    "from import_neo.base import BaseNeoImporter\n",
    "from import_neo.base_api import API2NeoImporter"
   ]
  },
  {
   "cell_type": "markdown",
   "id": "b311d97a-5884-4a9a-9339-3843932540bb",
   "metadata": {},
   "source": [
    "## Make sure to run Local Neo4j"
   ]
  },
  {
   "cell_type": "markdown",
   "id": "72b52fc7-5c19-4cc9-9a50-d837bfd79cc4",
   "metadata": {},
   "source": [
    "```shell\n",
    "docker-compose up -d --build\n",
    "```"
   ]
  },
  {
   "cell_type": "code",
   "execution_count": 10,
   "id": "c01f1a2d-2b18-41f5-8df2-9fc84366af6f",
   "metadata": {},
   "outputs": [],
   "source": [
    "# changes this to run DigitalOcean Spaces or MHP-API\n",
    "RUN_SPACES=False"
   ]
  },
  {
   "cell_type": "markdown",
   "id": "9c83e7a5-d3ec-4046-9979-f33d50aca016",
   "metadata": {},
   "source": [
    "# Use Backup in Digital Ocean Spaces"
   ]
  },
  {
   "cell_type": "code",
   "execution_count": 3,
   "id": "b5cee614-20d7-4e7c-a051-e8b160642275",
   "metadata": {},
   "outputs": [],
   "source": [
    "if RUN_SPACES:\n",
    "    services_path = 'results/services.json.gzip'\n",
    "    questions_path = 'results/questions.json.gzip'\n",
    "    \n",
    "    impo_services = BaseNeoImporter()\n",
    "    impo_services.run(services_path)\n",
    "    print('Services Data \\n')\n",
    "    print(impo_services.data[0])\n",
    "    \n",
    "    \n",
    "    impo_q = BaseNeoImporter(node_type='Questions')\n",
    "    impo_q.run(questions_path)\n",
    "    impo_q.data[0]\n",
    "    print('Questions Data \\n')\n",
    "    print(impo_q.data[0])"
   ]
  },
  {
   "cell_type": "markdown",
   "id": "ca3b7af3-c507-4ace-9de0-5c8e0a8c61eb",
   "metadata": {},
   "source": [
    "## Use API to Import to Neo4j"
   ]
  },
  {
   "cell_type": "code",
   "execution_count": 9,
   "id": "8bb0ecaa-1a54-4cf7-bc8f-5c12e955dee8",
   "metadata": {},
   "outputs": [
    {
     "name": "stdout",
     "output_type": "stream",
     "text": [
      "{'id': 1, 'question': 'Is anyone scaring, threatening or hurting you or your children?', 'tags': ['Domestic Violence', 'Shelter', 'Family'], 'main_tag': 'Family', 'mongo_id': 1, 'name': 'Is anyone scaring, threatening or hurting you or your children?'}\n",
      "{'name': 'S. AZ Gender Alliance', 'phone': 5204777096, 'address': '2030 EAST BROADWAY', 'general_topic': 'LGBTQ', 'tags': ['LGBTQ'], 'city': 'Tuscon', 'state': 'AZ', 'lat': 32.2210873, 'lon': -110.94121, 'zip_code': 85719, 'web_site': 'http://www.sagatucson.org/', 'days': None, 'hours': None, 'id': '6374335957ba17e9ea1a2d85', 'mongo_id': '6374335957ba17e9ea1a2d85', 'main_tag': 'LGBTQ'}\n"
     ]
    }
   ],
   "source": [
    "if not RUN_SPACES:\n",
    "    api_path = 'http://localhost'\n",
    "    q = API2NeoImporter(node_type='Questions', api_path=api_path)\n",
    "    q.run('questions')\n",
    "    print(q.data[0])\n",
    "    \n",
    "    s = API2NeoImporter(node_type='Services', api_path=api_path)\n",
    "    s.run('services')\n",
    "    print(s.data[0])"
   ]
  },
  {
   "cell_type": "markdown",
   "id": "aec97d25-12e0-47b9-a6f6-4fc6a4b840ba",
   "metadata": {},
   "source": [
    "# Cypher Queries\n",
    "\n",
    "* https://neo4j.com/docs/graph-data-science/current/algorithms/node-similarity/\n",
    "* https://neo4j.com/docs/graph-data-science/current/algorithms/knn/\n",
    "* https://neo4j.com/docs/graph-data-science/current/algorithms/bfs/\n",
    "* https://neo4j.com/docs/graph-data-science/current/machine-learning/linkprediction-pipelines/link-prediction/\n",
    "\n",
    "## Show all relationships \n",
    "```cypher\n",
    "MATCH (n:Tags), (n1:Services), (n3:Questions) return n, n1, n3\n",
    "```"
   ]
  },
  {
   "cell_type": "markdown",
   "id": "009f2322-fb73-427c-989a-f9f19936f28a",
   "metadata": {},
   "source": [
    "## Get Node Similiarties\n",
    "```cypher\n",
    "CALL gds.graph.project(\n",
    "    'myGraph',\n",
    "    ['Tags', 'Services', 'Questions'],\n",
    "    {\n",
    "        TAGGED: {\n",
    "        }\n",
    "    }\n",
    ");\n",
    "```\n",
    "\n",
    "\n",
    "\n",
    "```cypher\n",
    "CALL gds.nodeSimilarity.write('myGraph', {\n",
    "    writeRelationshipType: 'SIMILAR',\n",
    "    writeProperty: 'score'\n",
    "})\n",
    "YIELD nodesCompared, relationshipsWritten\n",
    "```\n",
    "\n",
    "\n",
    "```cypher\n",
    "MATCH p=()-[r:SIMILAR]-() WHERE r.score > 0.75 RETURN p \n",
    "```"
   ]
  },
  {
   "cell_type": "markdown",
   "id": "bf297f39-93d3-42be-8a53-35da319be9d2",
   "metadata": {},
   "source": [
    "## Link Prediction\n",
    "```cypher\n",
    "\n",
    "CALL gds.beta.pipeline.linkPrediction.create('pipe');\n",
    "\n",
    "                                             \n",
    "CALL gds.beta.pipeline.linkPrediction.configureSplit('pipe', {\n",
    "  testFraction: 0.25,\n",
    "  trainFraction: 0.6,\n",
    "  validationFolds: 3\n",
    "})\n",
    "YIELD splitConfig;\n",
    "\n",
    "\n",
    "CALL gds.alpha.pipeline.linkPrediction.addMLP('pipe',\n",
    "{hiddenLayerSizes: [4, 2], penalty: 1, patience: 2})\n",
    "YIELD parameterSpace;\n",
    "\n",
    "\n",
    "CALL gds.alpha.pipeline.linkPrediction.configureAutoTuning('pipe', {\n",
    "  maxTrials: 2\n",
    "}) YIELD autoTuningConfig;\n",
    "\n",
    "\n",
    "\n",
    "CALL gds.graph.project(\n",
    "  'testGraph',\n",
    "  {\n",
    "    Services: {\n",
    "      properties: ['created']\n",
    "    }\n",
    "  },\n",
    "  {\n",
    "    TAGGED: {\n",
    "      orientation: 'UNDIRECTED'\n",
    "    }\n",
    "  }\n",
    ");\n",
    "\n",
    "\n",
    "CALL gds.beta.pipeline.linkPrediction.train('testGraph', {\n",
    "  pipeline: 'pipe',\n",
    "  modelName: 'lp-pipeline-model',\n",
    "  metrics: ['AUCPR', 'OUT_OF_BAG_ERROR'],\n",
    "  targetRelationshipType: 'TAGGED',\n",
    "  randomSeed: 73\n",
    "}) YIELD modelInfo, modelSelectionStats\n",
    "RETURN\n",
    "  modelInfo.bestParameters AS winningModel,\n",
    "  modelInfo.metrics.AUCPR.train.avg AS avgTrainScore,\n",
    "  modelInfo.metrics.AUCPR.outerTrain AS outerTrainScore,\n",
    "  modelInfo.metrics.AUCPR.test AS testScore,\n",
    "  [cand IN modelSelectionStats.modelCandidates | cand.metrics.AUCPR.validation.avg] AS validationScores;\n",
    "    \n",
    "    \n",
    "CALL gds.beta.pipeline.linkPrediction.predict.stream('testGraph', {\n",
    "  modelName: 'lp-pipeline-model',\n",
    "  topN: 5,\n",
    "  threshold: 0.5\n",
    "})\n",
    " YIELD node1, node2, probability\n",
    " RETURN gds.util.asNode(node1).name AS person1, gds.util.asNode(node2).name AS person2, probability\n",
    " ORDER BY probability DESC, person1;\n",
    "```"
   ]
  },
  {
   "cell_type": "code",
   "execution_count": null,
   "id": "8aecf6a3-319e-4fbd-9b3c-334a66d3f338",
   "metadata": {},
   "outputs": [],
   "source": []
  }
 ],
 "metadata": {
  "kernelspec": {
   "display_name": "Python 3 (ipykernel)",
   "language": "python",
   "name": "python3"
  },
  "language_info": {
   "codemirror_mode": {
    "name": "ipython",
    "version": 3
   },
   "file_extension": ".py",
   "mimetype": "text/x-python",
   "name": "python",
   "nbconvert_exporter": "python",
   "pygments_lexer": "ipython3",
   "version": "3.9.13"
  }
 },
 "nbformat": 4,
 "nbformat_minor": 5
}
